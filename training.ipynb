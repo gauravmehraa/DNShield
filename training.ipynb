{
 "cells": [
  {
   "cell_type": "code",
   "execution_count": 135,
   "id": "98dac0f4-15c5-4217-b1a1-0531cce75071",
   "metadata": {},
   "outputs": [],
   "source": [
    "import pandas as pd\n",
    "import numpy as np\n",
    "import ast\n",
    "import joblib\n",
    "import matplotlib.pyplot as plt\n",
    "import seaborn as sns\n",
    "\n",
    "from collections import Counter\n",
    "from sklearn.model_selection import train_test_split\n",
    "from sklearn.utils.class_weight import compute_class_weight\n",
    "from sklearn.preprocessing import LabelEncoder, StandardScaler\n",
    "\n",
    "from tensorflow.keras.models import Sequential\n",
    "from tensorflow.keras.layers import Input, LSTM, Dense, Dropout, Bidirectional\n",
    "from tensorflow.keras.optimizers import Adam\n",
    "from tensorflow.keras.callbacks import EarlyStopping, ReduceLROnPlateau\n",
    "\n",
    "from sklearn.metrics import classification_report, confusion_matrix"
   ]
  },
  {
   "cell_type": "code",
   "execution_count": 136,
   "id": "cdd14e12-9ad2-4bc1-904d-3ec2b735b7c0",
   "metadata": {},
   "outputs": [],
   "source": [
    "columns_dtype = {\n",
    "    'flow_id': 'string',\n",
    "    'timestamp': 'string',  # parse as datetime later\n",
    "    'src_ip': 'string',\n",
    "    'src_port': 'Int64',\n",
    "    'dst_ip': 'string',\n",
    "    'dst_port': 'Int64',\n",
    "    'protocol': 'string',\n",
    "    'duration': 'float',\n",
    "    'packets_numbers': 'Int64',\n",
    "    'receiving_packets_numbers': 'Int64',\n",
    "    'sending_packets_numbers': 'Int64',\n",
    "    'handshake_duration': 'string',\n",
    "    'delta_start': 'string',\n",
    "    'total_bytes': 'Int64',\n",
    "    'receiving_bytes': 'Int64',\n",
    "    'sending_bytes': 'Int64',\n",
    "    'packets_rate': 'float',\n",
    "    'receiving_packets_rate': 'float',\n",
    "    'sending_packets_rate': 'float',\n",
    "    'packets_len_rate': 'float',\n",
    "    'receiving_packets_len_rate': 'float',\n",
    "    'sending_packets_len_rate': 'float',\n",
    "    'min_packets_len': 'Int64',\n",
    "    'max_packets_len': 'Int64',\n",
    "    'mean_packets_len': 'float',\n",
    "    'median_packets_len': 'float',\n",
    "    'mode_packets_len': 'float',\n",
    "    'standard_deviation_packets_len': 'float',\n",
    "    'variance_packets_len': 'float',\n",
    "    'coefficient_of_variation_packets_len': 'float',\n",
    "    'skewness_packets_len': 'float',\n",
    "    'min_receiving_packets_len': 'Int64',\n",
    "    'max_receiving_packets_len': 'Int64',\n",
    "    'mean_receiving_packets_len': 'float',\n",
    "    'median_receiving_packets_len': 'float',\n",
    "    'mode_receiving_packets_len': 'float',\n",
    "    'standard_deviation_receiving_packets_len': 'float',\n",
    "    'variance_receiving_packets_len': 'float',\n",
    "    'coefficient_of_variation_receiving_packets_len': 'float',\n",
    "    'skewness_receiving_packets_len': 'float',\n",
    "    'min_sending_packets_len': 'Int64',\n",
    "    'max_sending_packets_len': 'Int64',\n",
    "    'mean_sending_packets_len': 'float',\n",
    "    'median_sending_packets_len': 'float',\n",
    "    'mode_sending_packets_len': 'float',\n",
    "    'standard_deviation_sending_packets_len': 'float',\n",
    "    'variance_sending_packets_len': 'float',\n",
    "    'coefficient_of_variation_sending_packets_len': 'float',\n",
    "    'skewness_sending_packets_len': 'float',\n",
    "    'min_receiving_packets_delta_len': 'Int64',\n",
    "    'max_receiving_packets_delta_len': 'Int64',\n",
    "    'mean_receiving_packets_delta_len': 'float',\n",
    "    'median_receiving_packets_delta_len': 'float',\n",
    "    'standard_deviation_receiving_packets_delta_len': 'float',\n",
    "    'variance_receiving_packets_delta_len': 'float',\n",
    "    'mode_receiving_packets_delta_len': 'float',\n",
    "    'coefficient_of_variation_receiving_packets_delta_len': 'float',\n",
    "    'skewness_receiving_packets_delta_len': 'float',\n",
    "    'min_sending_packets_delta_len': 'Int64',\n",
    "    'max_sending_packets_delta_len': 'Int64',\n",
    "    'mean_sending_packets_delta_len': 'float',\n",
    "    'median_sending_packets_delta_len': 'float',\n",
    "    'standard_deviation_sending_packets_delta_len': 'float',\n",
    "    'variance_sending_packets_delta_len': 'float',\n",
    "    'mode_sending_packets_delta_len': 'float',\n",
    "    'coefficient_of_variation_sending_packets_delta_len': 'float',\n",
    "    'skewness_sending_packets_delta_len': 'float',\n",
    "    'max_receiving_packets_delta_time': 'float',\n",
    "    'mean_receiving_packets_delta_time': 'float',\n",
    "    'median_receiving_packets_delta_time': 'float',\n",
    "    'standard_deviation_receiving_packets_delta_time': 'float',\n",
    "    'variance_receiving_packets_delta_time': 'float',\n",
    "    'mode_receiving_packets_delta_time': 'float',\n",
    "    'coefficient_of_variation_receiving_packets_delta_time': 'float',\n",
    "    'skewness_sreceiving_packets_delta_time': 'float',\n",
    "    'min_sending_packets_delta_time': 'float',\n",
    "    'max_sending_packets_delta_time': 'float',\n",
    "    'mean_sending_packets_delta_time': 'float',\n",
    "    'median_sending_packets_delta_time': 'float',\n",
    "    'standard_deviation_sending_packets_delta_time': 'float',\n",
    "    'variance_sending_packets_delta_time': 'float',\n",
    "    'mode_sending_packets_delta_time': 'float',\n",
    "    'coefficient_of_variation_sending_packets_delta_time': 'float',\n",
    "    'skewness_sending_packets_delta_time': 'float',\n",
    "    'dns_domain_name': 'string',\n",
    "    'dns_top_level_domain': 'string',\n",
    "    'dns_second_level_domain': 'string',\n",
    "    'dns_domain_name_length': 'Int64',\n",
    "    'dns_subdomain_name_length': 'Int64',\n",
    "    'uni_gram_domain_name': 'string',\n",
    "    'bi_gram_domain_name': 'string',\n",
    "    'tri_gram_domain_name': 'string',\n",
    "    'numerical_percentage': 'float',\n",
    "    'character_distribution': 'string',\n",
    "    'character_entropy': 'float',\n",
    "    'max_continuous_numeric_len': 'Int64',\n",
    "    'max_continuous_alphabet_len': 'Int64',\n",
    "    'max_continuous_consonants_len': 'Int64',\n",
    "    'max_continuous_same_alphabet_len': 'Int64',\n",
    "    'vowels_consonant_ratio': 'float',\n",
    "    'conv_freq_vowels_consonants': 'float',\n",
    "    'distinct_ttl_values': 'Int64',\n",
    "    'ttl_values_min': 'Int64',\n",
    "    'ttl_values_max': 'Int64',\n",
    "    'ttl_values_mean': 'float',\n",
    "    'ttl_values_mode': 'float',\n",
    "    'ttl_values_variance': 'float',\n",
    "    'ttl_values_standard_deviation': 'float',\n",
    "    'ttl_values_median': 'float',\n",
    "    'ttl_values_skewness': 'float',\n",
    "    'ttl_values_coefficient_of_variation': 'float',\n",
    "    'distinct_A_records': 'Int64',\n",
    "    'distinct_NS_records': 'Int64',\n",
    "    'average_authority_resource_records': 'float',\n",
    "    'average_additional_resource_records': 'float',\n",
    "    'average_answer_resource_records': 'float',\n",
    "    'query_resource_record_type': 'string',\n",
    "    'ans_resource_record_type': 'string',\n",
    "    'query_resource_record_class': 'string',\n",
    "    'ans_resource_record_class': 'string',\n",
    "    'label': 'string'\n",
    "}"
   ]
  },
  {
   "cell_type": "code",
   "execution_count": 137,
   "id": "c8f49a47-1193-4689-a0e7-920650c30f12",
   "metadata": {},
   "outputs": [
    {
     "name": "stdout",
     "output_type": "stream",
     "text": [
      "Benign: (901654, 122)\n",
      "Phishing: (43348, 122)\n",
      "Spam: (30371, 122)\n",
      "Malware: (81698, 122)\n",
      "Combined dataset shape: (1057071, 122)\n"
     ]
    }
   ],
   "source": [
    "benign_df = pd.read_csv('../benign.csv', dtype=columns_dtype, low_memory=False)\n",
    "phishing_df = pd.read_csv('../phishing.csv', dtype=columns_dtype, low_memory=False)\n",
    "spam_df = pd.read_csv('../spam.csv', dtype=columns_dtype, low_memory=False)\n",
    "malware_df = pd.read_csv('../malware.csv', dtype=columns_dtype, low_memory=False)\n",
    "\n",
    "# benign_df = benign_df.head(10000)\n",
    "# phishing_df = phishing_df.head(10000)\n",
    "# spam_df = spam_df.head(10000)\n",
    "# malware_df = malware_df.head(10000)\n",
    "\n",
    "print(\"Benign:\", benign_df.shape)\n",
    "print(\"Phishing:\", phishing_df.shape)\n",
    "print(\"Spam:\", spam_df.shape)\n",
    "print(\"Malware:\", malware_df.shape)\n",
    "\n",
    "data = pd.concat([benign_df, phishing_df, spam_df, malware_df], ignore_index=True)\n",
    "print(\"Combined dataset shape:\", data.shape)"
   ]
  },
  {
   "cell_type": "code",
   "execution_count": 138,
   "id": "afdf2c6e-a054-4563-92f4-ec892ebc9e44",
   "metadata": {},
   "outputs": [
    {
     "name": "stdout",
     "output_type": "stream",
     "text": [
      "Missing Values (%): coefficient_of_variation_receiving_packets_delta_len     0.268667\n",
      "coefficient_of_variation_sending_packets_delta_len       0.241516\n",
      "dns_top_level_domain                                     0.000378\n",
      "dns_subdomain_name_length                               96.989228\n",
      "ttl_values_coefficient_of_variation                      0.074167\n",
      "dtype: float64\n",
      "\n",
      "Data sorted by timestamp.\n"
     ]
    }
   ],
   "source": [
    "missing_vals = data.isnull().sum()\n",
    "missing_pct = (missing_vals / len(data)) * 100\n",
    "print(\"Missing Values (%):\", missing_pct[missing_pct > 0])\n",
    "\n",
    "data_cleaned = data.drop('dns_subdomain_name_length', axis=1)\n",
    "\n",
    "# Parse timestamp\n",
    "data_cleaned['timestamp'] = pd.to_datetime(data_cleaned['timestamp'], errors='coerce')\n",
    "data_cleaned = data_cleaned.dropna(subset=['timestamp'])\n",
    "# Sort by timestamp only\n",
    "data_cleaned = data_cleaned.sort_values('timestamp').reset_index(drop=True)\n",
    "print(\"\\nData sorted by timestamp.\")"
   ]
  },
  {
   "cell_type": "code",
   "execution_count": 139,
   "id": "58a62dcc-fcc4-4134-877c-08c13c40544d",
   "metadata": {},
   "outputs": [
    {
     "name": "stdout",
     "output_type": "stream",
     "text": [
      "Label classes: ['Benign' 'Malware' 'Phishing' 'Spam']\n"
     ]
    }
   ],
   "source": [
    "le_label = LabelEncoder()\n",
    "data_cleaned['label_encoded'] = le_label.fit_transform(data_cleaned['label'])\n",
    "print(\"Label classes:\", le_label.classes_)"
   ]
  },
  {
   "cell_type": "code",
   "execution_count": 140,
   "id": "8af2276a-a795-4d4d-bf9c-be9bd8f9ff33",
   "metadata": {},
   "outputs": [
    {
     "name": "stdout",
     "output_type": "stream",
     "text": [
      "Selected shape: (1057071, 28)\n"
     ]
    }
   ],
   "source": [
    "essential_features = [\n",
    "    'timestamp',\n",
    "    'dns_top_level_domain',\n",
    "    'dns_second_level_domain',\n",
    "    'dns_domain_name_length',\n",
    "    'uni_gram_domain_name',\n",
    "    'bi_gram_domain_name',\n",
    "    'tri_gram_domain_name',\n",
    "    'numerical_percentage',\n",
    "    'character_entropy',\n",
    "    'max_continuous_numeric_len',\n",
    "    'max_continuous_alphabet_len',\n",
    "    'vowels_consonant_ratio',\n",
    "    'conv_freq_vowels_consonants',\n",
    "    'query_resource_record_type',\n",
    "    'ans_resource_record_type',\n",
    "    'query_resource_record_class',\n",
    "    'ans_resource_record_class',\n",
    "    'packets_numbers',\n",
    "    'receiving_packets_numbers',\n",
    "    'sending_packets_numbers',\n",
    "    'receiving_bytes',\n",
    "    'sending_bytes',\n",
    "    'distinct_ttl_values',\n",
    "    'ttl_values_min',\n",
    "    'ttl_values_max',\n",
    "    'ttl_values_mean',\n",
    "    'character_distribution',\n",
    "    'label_encoded'\n",
    "]\n",
    "\n",
    "data_selected = data_cleaned[essential_features].copy()\n",
    "print(\"Selected shape:\", data_selected.shape)"
   ]
  },
  {
   "cell_type": "code",
   "execution_count": 141,
   "id": "7fed476a-d1d1-493d-bbdd-370d4e209d51",
   "metadata": {},
   "outputs": [],
   "source": [
    "placeholder = 'unknown'\n",
    "data_selected['dns_top_level_domain'] = data_selected['dns_top_level_domain'].fillna(placeholder)\n",
    "data_selected['dns_second_level_domain'] = data_selected['dns_second_level_domain'].fillna(placeholder)\n",
    "\n",
    "all_tld = data_selected['dns_top_level_domain'].unique().tolist()\n",
    "if 'unknown' not in all_tld:\n",
    "    all_tld.append('unknown')\n",
    "\n",
    "all_sld = data_selected['dns_second_level_domain'].unique().tolist()\n",
    "if 'unknown' not in all_sld:\n",
    "    all_sld.append('unknown')\n",
    "\n",
    "le_tld = LabelEncoder()\n",
    "le_sld = LabelEncoder()\n",
    "le_tld.fit(all_tld)\n",
    "le_sld.fit(all_sld)\n",
    "\n",
    "data_selected['dns_top_level_domain'] = data_selected['dns_top_level_domain'].apply(\n",
    "    lambda x: x if x in all_tld else 'unknown'\n",
    ")\n",
    "data_selected['dns_second_level_domain'] = data_selected['dns_second_level_domain'].apply(\n",
    "    lambda x: x if x in all_sld else 'unknown'\n",
    ")\n",
    "\n",
    "data_selected['dns_top_level_domain_encoded'] = le_tld.transform(data_selected['dns_top_level_domain'])\n",
    "data_selected['dns_second_level_domain_encoded'] = le_sld.transform(data_selected['dns_second_level_domain'])\n",
    "\n",
    "data_selected.drop(['dns_top_level_domain','dns_second_level_domain'], axis=1, inplace=True)"
   ]
  },
  {
   "cell_type": "code",
   "execution_count": 142,
   "id": "bc187198-a631-4315-84a1-4c5da91b95e0",
   "metadata": {},
   "outputs": [
    {
     "name": "stdout",
     "output_type": "stream",
     "text": [
      "Created n-gram counts, dropped original n-gram columns.\n"
     ]
    }
   ],
   "source": [
    "def parse_list_safe(list_entry):\n",
    "    if isinstance(list_entry, list):\n",
    "        return list_entry\n",
    "    elif isinstance(list_entry, str):\n",
    "        try:\n",
    "            return ast.literal_eval(list_entry)\n",
    "        except (ValueError, SyntaxError):\n",
    "            return []\n",
    "    else:\n",
    "        return []\n",
    "\n",
    "ngram_cols = ['uni_gram_domain_name','bi_gram_domain_name','tri_gram_domain_name']\n",
    "for col in ngram_cols:\n",
    "    data_selected[col] = data_selected[col].apply(parse_list_safe)\n",
    "\n",
    "count_cols = ['uni_gram_count','bi_gram_count','tri_gram_count']\n",
    "for ncol, ccol in zip(ngram_cols, count_cols):\n",
    "    data_selected[ccol] = data_selected[ncol].apply(len)\n",
    "\n",
    "data_selected.drop(ngram_cols, axis=1, inplace=True)\n",
    "print(\"Created n-gram counts, dropped original n-gram columns.\")"
   ]
  },
  {
   "cell_type": "code",
   "execution_count": 143,
   "id": "4673dc08-8f58-411f-8ba6-037befb5aaca",
   "metadata": {},
   "outputs": [
    {
     "name": "stdout",
     "output_type": "stream",
     "text": [
      "Processed resource record columns.\n"
     ]
    }
   ],
   "source": [
    "record_cols = [\n",
    "    'query_resource_record_type',\n",
    "    'ans_resource_record_type',\n",
    "    'query_resource_record_class',\n",
    "    'ans_resource_record_class'\n",
    "]\n",
    "for rcol in record_cols:\n",
    "    data_selected[rcol] = data_selected[rcol].apply(parse_list_safe)\n",
    "    ccount = f\"{rcol}_count\"\n",
    "    data_selected[ccount] = data_selected[rcol].apply(lambda x: len(set(x)) if isinstance(x,list) else 0)\n",
    "\n",
    "data_selected.drop(record_cols, axis=1, inplace=True)\n",
    "print(\"Processed resource record columns.\")"
   ]
  },
  {
   "cell_type": "code",
   "execution_count": 144,
   "id": "ffa18098-b332-4d41-8ffe-0a64fa681ce1",
   "metadata": {},
   "outputs": [
    {
     "name": "stdout",
     "output_type": "stream",
     "text": [
      "Extracted vowel_count/consonant_count from 'character_distribution'.\n"
     ]
    }
   ],
   "source": [
    "vowels = set('aeiou')\n",
    "consonants = set('bcdfghjklmnpqrstvwxyz')\n",
    "\n",
    "def extract_vowels_consonants(dist):\n",
    "    vowel_count = 0\n",
    "    consonant_count = 0\n",
    "    if isinstance(dist, str):\n",
    "        try:\n",
    "            dist = ast.literal_eval(dist)\n",
    "        except (ValueError, SyntaxError):\n",
    "            dist = {}\n",
    "    if isinstance(dist, dict):\n",
    "        for ch, c in dist.items():\n",
    "            if ch in vowels:\n",
    "                vowel_count += c\n",
    "            elif ch in consonants:\n",
    "                consonant_count += c\n",
    "    return pd.Series({'vowel_count': vowel_count, 'consonant_count': consonant_count})\n",
    "\n",
    "char_dist_feats = data_selected['character_distribution'].apply(extract_vowels_consonants)\n",
    "data_selected = pd.concat([data_selected, char_dist_feats], axis=1)\n",
    "data_selected.drop('character_distribution', axis=1, inplace=True)\n",
    "print(\"Extracted vowel_count/consonant_count from 'character_distribution'.\")"
   ]
  },
  {
   "cell_type": "code",
   "execution_count": 145,
   "id": "e8a37529-e806-489b-92ac-a5967e4e2991",
   "metadata": {},
   "outputs": [
    {
     "name": "stdout",
     "output_type": "stream",
     "text": [
      "X shape: (1057071, 28) | y shape: (1057071,)\n"
     ]
    }
   ],
   "source": [
    "X = data_selected.drop(['label_encoded'], axis=1)\n",
    "y = data_selected['label_encoded']\n",
    "print(\"X shape:\", X.shape,\"| y shape:\", y.shape)"
   ]
  },
  {
   "cell_type": "code",
   "execution_count": 146,
   "id": "466e2295-a6f5-4e2b-bba1-6a69535b300e",
   "metadata": {},
   "outputs": [
    {
     "name": "stdout",
     "output_type": "stream",
     "text": [
      "27\n",
      "Scaled numeric features.\n"
     ]
    }
   ],
   "source": [
    "# Exclude 'timestamp' from scaling\n",
    "ignore_cols = ['timestamp']\n",
    "numeric_cols = [col for col in X.columns\n",
    "                if (str(X[col].dtype) in ['Int64', 'int64','float64'] and col not in ignore_cols)]\n",
    "\n",
    "numeric_cols = [col for col in X.columns\n",
    "                if col not in ignore_cols]\n",
    "\n",
    "scaler = StandardScaler()\n",
    "scaler.fit(X[numeric_cols])\n",
    "\n",
    "print(len(numeric_cols))\n",
    "\n",
    "X_scaled = X.copy()\n",
    "X_scaled[numeric_cols] = scaler.transform(X[numeric_cols])\n",
    "print(\"Scaled numeric features.\")"
   ]
  },
  {
   "cell_type": "code",
   "execution_count": 147,
   "id": "a416ca2b-3a51-4715-9e62-dacf2d05eade",
   "metadata": {},
   "outputs": [
    {
     "name": "stdout",
     "output_type": "stream",
     "text": [
      "Train shape: (845666, 28) (845666,)\n",
      "Val shape: (105697, 28) (105697,)\n",
      "Test shape: (105708, 28) (105708,)\n"
     ]
    }
   ],
   "source": [
    "x_train_val, x_test, y_train_val, y_test = train_test_split(\n",
    "    X_scaled, y, test_size=0.1, random_state=42, stratify=y\n",
    ")\n",
    "x_train, x_val, y_train, y_val = train_test_split(\n",
    "    x_train_val, y_train_val, test_size=0.1111, random_state=42, stratify=y_train_val\n",
    ")\n",
    "\n",
    "print(\"Train shape:\", x_train.shape, y_train.shape)\n",
    "print(\"Val shape:\",   x_val.shape,   y_val.shape)\n",
    "print(\"Test shape:\",  x_test.shape,  y_test.shape)"
   ]
  },
  {
   "cell_type": "code",
   "execution_count": 148,
   "id": "76d6fd2d-aeeb-40ba-b660-62f165afa08c",
   "metadata": {},
   "outputs": [
    {
     "name": "stdout",
     "output_type": "stream",
     "text": [
      "x_train_rnn: (845662, 5, 27) y_train_rnn: (845662,)\n",
      "x_val_rnn: (105693, 5, 27) y_val_rnn: (105693,)\n",
      "x_test_rnn: (105704, 5, 27) y_test_rnn: (105704,)\n"
     ]
    }
   ],
   "source": [
    "def create_sequences_sorted(x_df, y_series, seq_len):\n",
    "    combined = x_df.copy()\n",
    "    combined['label_encoded'] = y_series.values\n",
    "\n",
    "    # Sort by timestamp if available\n",
    "    if 'timestamp' in combined.columns:\n",
    "        combined = combined.sort_values('timestamp').reset_index(drop=True)\n",
    "\n",
    "    # Drop timestamp + label from final input features\n",
    "    final_x = combined.drop(['timestamp','label_encoded'], axis=1, errors='ignore')\n",
    "    final_y = combined['label_encoded']\n",
    "\n",
    "    # Ensure numeric type\n",
    "    final_x = final_x.astype('float32', errors='ignore')  # or 'float64'\n",
    "\n",
    "    X_seq, y_seq = [], []\n",
    "    for i in range(len(final_x) - seq_len + 1):\n",
    "        window_x = final_x.iloc[i:i+seq_len].values\n",
    "        window_y = final_y.iloc[i+seq_len-1]\n",
    "        X_seq.append(window_x)\n",
    "        y_seq.append(window_y)\n",
    "\n",
    "    return np.array(X_seq), np.array(y_seq)\n",
    "\n",
    "sequence_length = 5\n",
    "\n",
    "x_train_rnn, y_train_rnn = create_sequences_sorted(x_train, y_train, sequence_length)\n",
    "x_val_rnn,   y_val_rnn   = create_sequences_sorted(x_val,   y_val,   sequence_length)\n",
    "x_test_rnn,  y_test_rnn  = create_sequences_sorted(x_test,  y_test,  sequence_length)\n",
    "\n",
    "print(\"x_train_rnn:\", x_train_rnn.shape,\"y_train_rnn:\", y_train_rnn.shape)\n",
    "print(\"x_val_rnn:\",   x_val_rnn.shape,  \"y_val_rnn:\",   y_val_rnn.shape)\n",
    "print(\"x_test_rnn:\",  x_test_rnn.shape, \"y_test_rnn:\",  y_test_rnn.shape)"
   ]
  },
  {
   "cell_type": "code",
   "execution_count": 149,
   "id": "dd8a4d86-e36e-42b8-aa36-cb18e62afb2b",
   "metadata": {},
   "outputs": [
    {
     "name": "stdout",
     "output_type": "stream",
     "text": [
      "Class Weights: {0: 0.2930924532147001, 1: 3.234680763169571, 2: 6.096355142881859, 3: 8.701300572087089}\n"
     ]
    }
   ],
   "source": [
    "class_weights = compute_class_weight(\n",
    "    class_weight='balanced',\n",
    "    classes=np.unique(y_train_rnn),\n",
    "    y=y_train_rnn\n",
    ")\n",
    "class_weights_dict = {i: w for i,w in enumerate(class_weights)}\n",
    "print(\"Class Weights:\", class_weights_dict)"
   ]
  },
  {
   "cell_type": "code",
   "execution_count": 150,
   "id": "bad2863e-810a-4939-8f89-5d9cb547fec5",
   "metadata": {},
   "outputs": [
    {
     "data": {
      "text/html": [
       "<pre style=\"white-space:pre;overflow-x:auto;line-height:normal;font-family:Menlo,'DejaVu Sans Mono',consolas,'Courier New',monospace\"><span style=\"font-weight: bold\">Model: \"sequential_5\"</span>\n",
       "</pre>\n"
      ],
      "text/plain": [
       "\u001b[1mModel: \"sequential_5\"\u001b[0m\n"
      ]
     },
     "metadata": {},
     "output_type": "display_data"
    },
    {
     "data": {
      "text/html": [
       "<pre style=\"white-space:pre;overflow-x:auto;line-height:normal;font-family:Menlo,'DejaVu Sans Mono',consolas,'Courier New',monospace\">┏━━━━━━━━━━━━━━━━━━━━━━━━━━━━━━━━━━━━━━┳━━━━━━━━━━━━━━━━━━━━━━━━━━━━━┳━━━━━━━━━━━━━━━━━┓\n",
       "┃<span style=\"font-weight: bold\"> Layer (type)                         </span>┃<span style=\"font-weight: bold\"> Output Shape                </span>┃<span style=\"font-weight: bold\">         Param # </span>┃\n",
       "┡━━━━━━━━━━━━━━━━━━━━━━━━━━━━━━━━━━━━━━╇━━━━━━━━━━━━━━━━━━━━━━━━━━━━━╇━━━━━━━━━━━━━━━━━┩\n",
       "│ bidirectional_10 (<span style=\"color: #0087ff; text-decoration-color: #0087ff\">Bidirectional</span>)     │ (<span style=\"color: #00d7ff; text-decoration-color: #00d7ff\">None</span>, <span style=\"color: #00af00; text-decoration-color: #00af00\">5</span>, <span style=\"color: #00af00; text-decoration-color: #00af00\">256</span>)              │         <span style=\"color: #00af00; text-decoration-color: #00af00\">159,744</span> │\n",
       "├──────────────────────────────────────┼─────────────────────────────┼─────────────────┤\n",
       "│ dropout_15 (<span style=\"color: #0087ff; text-decoration-color: #0087ff\">Dropout</span>)                 │ (<span style=\"color: #00d7ff; text-decoration-color: #00d7ff\">None</span>, <span style=\"color: #00af00; text-decoration-color: #00af00\">5</span>, <span style=\"color: #00af00; text-decoration-color: #00af00\">256</span>)              │               <span style=\"color: #00af00; text-decoration-color: #00af00\">0</span> │\n",
       "├──────────────────────────────────────┼─────────────────────────────┼─────────────────┤\n",
       "│ bidirectional_11 (<span style=\"color: #0087ff; text-decoration-color: #0087ff\">Bidirectional</span>)     │ (<span style=\"color: #00d7ff; text-decoration-color: #00d7ff\">None</span>, <span style=\"color: #00af00; text-decoration-color: #00af00\">128</span>)                 │         <span style=\"color: #00af00; text-decoration-color: #00af00\">164,352</span> │\n",
       "├──────────────────────────────────────┼─────────────────────────────┼─────────────────┤\n",
       "│ dropout_16 (<span style=\"color: #0087ff; text-decoration-color: #0087ff\">Dropout</span>)                 │ (<span style=\"color: #00d7ff; text-decoration-color: #00d7ff\">None</span>, <span style=\"color: #00af00; text-decoration-color: #00af00\">128</span>)                 │               <span style=\"color: #00af00; text-decoration-color: #00af00\">0</span> │\n",
       "├──────────────────────────────────────┼─────────────────────────────┼─────────────────┤\n",
       "│ dense_10 (<span style=\"color: #0087ff; text-decoration-color: #0087ff\">Dense</span>)                     │ (<span style=\"color: #00d7ff; text-decoration-color: #00d7ff\">None</span>, <span style=\"color: #00af00; text-decoration-color: #00af00\">128</span>)                 │          <span style=\"color: #00af00; text-decoration-color: #00af00\">16,512</span> │\n",
       "├──────────────────────────────────────┼─────────────────────────────┼─────────────────┤\n",
       "│ dropout_17 (<span style=\"color: #0087ff; text-decoration-color: #0087ff\">Dropout</span>)                 │ (<span style=\"color: #00d7ff; text-decoration-color: #00d7ff\">None</span>, <span style=\"color: #00af00; text-decoration-color: #00af00\">128</span>)                 │               <span style=\"color: #00af00; text-decoration-color: #00af00\">0</span> │\n",
       "├──────────────────────────────────────┼─────────────────────────────┼─────────────────┤\n",
       "│ dense_11 (<span style=\"color: #0087ff; text-decoration-color: #0087ff\">Dense</span>)                     │ (<span style=\"color: #00d7ff; text-decoration-color: #00d7ff\">None</span>, <span style=\"color: #00af00; text-decoration-color: #00af00\">4</span>)                   │             <span style=\"color: #00af00; text-decoration-color: #00af00\">516</span> │\n",
       "└──────────────────────────────────────┴─────────────────────────────┴─────────────────┘\n",
       "</pre>\n"
      ],
      "text/plain": [
       "┏━━━━━━━━━━━━━━━━━━━━━━━━━━━━━━━━━━━━━━┳━━━━━━━━━━━━━━━━━━━━━━━━━━━━━┳━━━━━━━━━━━━━━━━━┓\n",
       "┃\u001b[1m \u001b[0m\u001b[1mLayer (type)                        \u001b[0m\u001b[1m \u001b[0m┃\u001b[1m \u001b[0m\u001b[1mOutput Shape               \u001b[0m\u001b[1m \u001b[0m┃\u001b[1m \u001b[0m\u001b[1m        Param #\u001b[0m\u001b[1m \u001b[0m┃\n",
       "┡━━━━━━━━━━━━━━━━━━━━━━━━━━━━━━━━━━━━━━╇━━━━━━━━━━━━━━━━━━━━━━━━━━━━━╇━━━━━━━━━━━━━━━━━┩\n",
       "│ bidirectional_10 (\u001b[38;5;33mBidirectional\u001b[0m)     │ (\u001b[38;5;45mNone\u001b[0m, \u001b[38;5;34m5\u001b[0m, \u001b[38;5;34m256\u001b[0m)              │         \u001b[38;5;34m159,744\u001b[0m │\n",
       "├──────────────────────────────────────┼─────────────────────────────┼─────────────────┤\n",
       "│ dropout_15 (\u001b[38;5;33mDropout\u001b[0m)                 │ (\u001b[38;5;45mNone\u001b[0m, \u001b[38;5;34m5\u001b[0m, \u001b[38;5;34m256\u001b[0m)              │               \u001b[38;5;34m0\u001b[0m │\n",
       "├──────────────────────────────────────┼─────────────────────────────┼─────────────────┤\n",
       "│ bidirectional_11 (\u001b[38;5;33mBidirectional\u001b[0m)     │ (\u001b[38;5;45mNone\u001b[0m, \u001b[38;5;34m128\u001b[0m)                 │         \u001b[38;5;34m164,352\u001b[0m │\n",
       "├──────────────────────────────────────┼─────────────────────────────┼─────────────────┤\n",
       "│ dropout_16 (\u001b[38;5;33mDropout\u001b[0m)                 │ (\u001b[38;5;45mNone\u001b[0m, \u001b[38;5;34m128\u001b[0m)                 │               \u001b[38;5;34m0\u001b[0m │\n",
       "├──────────────────────────────────────┼─────────────────────────────┼─────────────────┤\n",
       "│ dense_10 (\u001b[38;5;33mDense\u001b[0m)                     │ (\u001b[38;5;45mNone\u001b[0m, \u001b[38;5;34m128\u001b[0m)                 │          \u001b[38;5;34m16,512\u001b[0m │\n",
       "├──────────────────────────────────────┼─────────────────────────────┼─────────────────┤\n",
       "│ dropout_17 (\u001b[38;5;33mDropout\u001b[0m)                 │ (\u001b[38;5;45mNone\u001b[0m, \u001b[38;5;34m128\u001b[0m)                 │               \u001b[38;5;34m0\u001b[0m │\n",
       "├──────────────────────────────────────┼─────────────────────────────┼─────────────────┤\n",
       "│ dense_11 (\u001b[38;5;33mDense\u001b[0m)                     │ (\u001b[38;5;45mNone\u001b[0m, \u001b[38;5;34m4\u001b[0m)                   │             \u001b[38;5;34m516\u001b[0m │\n",
       "└──────────────────────────────────────┴─────────────────────────────┴─────────────────┘\n"
      ]
     },
     "metadata": {},
     "output_type": "display_data"
    },
    {
     "data": {
      "text/html": [
       "<pre style=\"white-space:pre;overflow-x:auto;line-height:normal;font-family:Menlo,'DejaVu Sans Mono',consolas,'Courier New',monospace\"><span style=\"font-weight: bold\"> Total params: </span><span style=\"color: #00af00; text-decoration-color: #00af00\">341,124</span> (1.30 MB)\n",
       "</pre>\n"
      ],
      "text/plain": [
       "\u001b[1m Total params: \u001b[0m\u001b[38;5;34m341,124\u001b[0m (1.30 MB)\n"
      ]
     },
     "metadata": {},
     "output_type": "display_data"
    },
    {
     "data": {
      "text/html": [
       "<pre style=\"white-space:pre;overflow-x:auto;line-height:normal;font-family:Menlo,'DejaVu Sans Mono',consolas,'Courier New',monospace\"><span style=\"font-weight: bold\"> Trainable params: </span><span style=\"color: #00af00; text-decoration-color: #00af00\">341,124</span> (1.30 MB)\n",
       "</pre>\n"
      ],
      "text/plain": [
       "\u001b[1m Trainable params: \u001b[0m\u001b[38;5;34m341,124\u001b[0m (1.30 MB)\n"
      ]
     },
     "metadata": {},
     "output_type": "display_data"
    },
    {
     "data": {
      "text/html": [
       "<pre style=\"white-space:pre;overflow-x:auto;line-height:normal;font-family:Menlo,'DejaVu Sans Mono',consolas,'Courier New',monospace\"><span style=\"font-weight: bold\"> Non-trainable params: </span><span style=\"color: #00af00; text-decoration-color: #00af00\">0</span> (0.00 B)\n",
       "</pre>\n"
      ],
      "text/plain": [
       "\u001b[1m Non-trainable params: \u001b[0m\u001b[38;5;34m0\u001b[0m (0.00 B)\n"
      ]
     },
     "metadata": {},
     "output_type": "display_data"
    }
   ],
   "source": [
    "num_classes = len(np.unique(y_train_rnn))\n",
    "\n",
    "model = Sequential([\n",
    "    Input(shape=(sequence_length, x_train_rnn.shape[2])),\n",
    "    Bidirectional(LSTM(128, return_sequences=True)),\n",
    "    Dropout(0.4),\n",
    "    Bidirectional(LSTM(64)),\n",
    "    Dropout(0.3),\n",
    "    Dense(128, activation='relu'),\n",
    "    Dropout(0.3),\n",
    "    Dense(num_classes, activation='softmax')\n",
    "])\n",
    "\n",
    "model.compile(\n",
    "    optimizer=Adam(learning_rate=0.0005),\n",
    "    loss='sparse_categorical_crossentropy',\n",
    "    metrics=['accuracy']\n",
    ")\n",
    "\n",
    "model.summary()"
   ]
  },
  {
   "cell_type": "code",
   "execution_count": 151,
   "id": "a2c29081-b7c5-406d-8bbc-2afda9c5dc68",
   "metadata": {},
   "outputs": [],
   "source": [
    "x_train_rnn = x_train_rnn.astype('float32')\n",
    "x_val_rnn   = x_val_rnn.astype('float32')\n",
    "x_test_rnn  = x_test_rnn.astype('float32')"
   ]
  },
  {
   "cell_type": "code",
   "execution_count": 152,
   "id": "78731802-3a70-4206-9e57-1c2fe36eff2d",
   "metadata": {},
   "outputs": [
    {
     "name": "stdout",
     "output_type": "stream",
     "text": [
      "Epoch 1/50\n",
      "\u001b[1m26427/26427\u001b[0m \u001b[32m━━━━━━━━━━━━━━━━━━━━\u001b[0m\u001b[37m\u001b[0m \u001b[1m284s\u001b[0m 11ms/step - accuracy: 0.7470 - loss: 0.8317 - val_accuracy: 0.8347 - val_loss: 0.5289 - learning_rate: 5.0000e-04\n",
      "Epoch 2/50\n",
      "\u001b[1m26427/26427\u001b[0m \u001b[32m━━━━━━━━━━━━━━━━━━━━\u001b[0m\u001b[37m\u001b[0m \u001b[1m267s\u001b[0m 10ms/step - accuracy: 0.8104 - loss: 0.5836 - val_accuracy: 0.8419 - val_loss: 0.4428 - learning_rate: 5.0000e-04\n",
      "Epoch 3/50\n",
      "\u001b[1m26427/26427\u001b[0m \u001b[32m━━━━━━━━━━━━━━━━━━━━\u001b[0m\u001b[37m\u001b[0m \u001b[1m264s\u001b[0m 10ms/step - accuracy: 0.8291 - loss: 0.4868 - val_accuracy: 0.8339 - val_loss: 0.4480 - learning_rate: 5.0000e-04\n",
      "Epoch 4/50\n",
      "\u001b[1m26427/26427\u001b[0m \u001b[32m━━━━━━━━━━━━━━━━━━━━\u001b[0m\u001b[37m\u001b[0m \u001b[1m265s\u001b[0m 10ms/step - accuracy: 0.8367 - loss: 0.4307 - val_accuracy: 0.8491 - val_loss: 0.4307 - learning_rate: 5.0000e-04\n",
      "Epoch 5/50\n",
      "\u001b[1m26427/26427\u001b[0m \u001b[32m━━━━━━━━━━━━━━━━━━━━\u001b[0m\u001b[37m\u001b[0m \u001b[1m267s\u001b[0m 10ms/step - accuracy: 0.8455 - loss: 0.3880 - val_accuracy: 0.8478 - val_loss: 0.4062 - learning_rate: 5.0000e-04\n",
      "Epoch 6/50\n",
      "\u001b[1m26427/26427\u001b[0m \u001b[32m━━━━━━━━━━━━━━━━━━━━\u001b[0m\u001b[37m\u001b[0m \u001b[1m269s\u001b[0m 10ms/step - accuracy: 0.8470 - loss: 0.3599 - val_accuracy: 0.8354 - val_loss: 0.4540 - learning_rate: 5.0000e-04\n",
      "Epoch 7/50\n",
      "\u001b[1m26427/26427\u001b[0m \u001b[32m━━━━━━━━━━━━━━━━━━━━\u001b[0m\u001b[37m\u001b[0m \u001b[1m270s\u001b[0m 10ms/step - accuracy: 0.8501 - loss: 0.3364 - val_accuracy: 0.8246 - val_loss: 0.4602 - learning_rate: 5.0000e-04\n",
      "Epoch 8/50\n",
      "\u001b[1m26427/26427\u001b[0m \u001b[32m━━━━━━━━━━━━━━━━━━━━\u001b[0m\u001b[37m\u001b[0m \u001b[1m269s\u001b[0m 10ms/step - accuracy: 0.8508 - loss: 0.3166 - val_accuracy: 0.8395 - val_loss: 0.4169 - learning_rate: 5.0000e-04\n",
      "Epoch 9/50\n",
      "\u001b[1m26427/26427\u001b[0m \u001b[32m━━━━━━━━━━━━━━━━━━━━\u001b[0m\u001b[37m\u001b[0m \u001b[1m270s\u001b[0m 10ms/step - accuracy: 0.8548 - loss: 0.2954 - val_accuracy: 0.8104 - val_loss: 0.4859 - learning_rate: 5.0000e-04\n",
      "Epoch 10/50\n",
      "\u001b[1m26423/26427\u001b[0m \u001b[32m━━━━━━━━━━━━━━━━━━━\u001b[0m\u001b[37m━\u001b[0m \u001b[1m0s\u001b[0m 10ms/step - accuracy: 0.8554 - loss: 0.2824\n",
      "Epoch 10: ReduceLROnPlateau reducing learning rate to 0.00010000000474974513.\n",
      "\u001b[1m26427/26427\u001b[0m \u001b[32m━━━━━━━━━━━━━━━━━━━━\u001b[0m\u001b[37m\u001b[0m \u001b[1m331s\u001b[0m 11ms/step - accuracy: 0.8554 - loss: 0.2824 - val_accuracy: 0.8067 - val_loss: 0.4869 - learning_rate: 5.0000e-04\n",
      "Epoch 11/50\n",
      "\u001b[1m26427/26427\u001b[0m \u001b[32m━━━━━━━━━━━━━━━━━━━━\u001b[0m\u001b[37m\u001b[0m \u001b[1m273s\u001b[0m 10ms/step - accuracy: 0.8661 - loss: 0.2397 - val_accuracy: 0.8338 - val_loss: 0.4322 - learning_rate: 1.0000e-04\n",
      "Epoch 12/50\n",
      "\u001b[1m26427/26427\u001b[0m \u001b[32m━━━━━━━━━━━━━━━━━━━━\u001b[0m\u001b[37m\u001b[0m \u001b[1m287s\u001b[0m 11ms/step - accuracy: 0.8711 - loss: 0.2138 - val_accuracy: 0.8267 - val_loss: 0.4549 - learning_rate: 1.0000e-04\n",
      "Epoch 13/50\n",
      "\u001b[1m26427/26427\u001b[0m \u001b[32m━━━━━━━━━━━━━━━━━━━━\u001b[0m\u001b[37m\u001b[0m \u001b[1m277s\u001b[0m 10ms/step - accuracy: 0.8717 - loss: 0.2085 - val_accuracy: 0.8263 - val_loss: 0.4604 - learning_rate: 1.0000e-04\n",
      "Epoch 14/50\n",
      "\u001b[1m26427/26427\u001b[0m \u001b[32m━━━━━━━━━━━━━━━━━━━━\u001b[0m\u001b[37m\u001b[0m \u001b[1m279s\u001b[0m 11ms/step - accuracy: 0.8728 - loss: 0.2036 - val_accuracy: 0.8205 - val_loss: 0.4683 - learning_rate: 1.0000e-04\n",
      "Epoch 15/50\n",
      "\u001b[1m26427/26427\u001b[0m \u001b[32m━━━━━━━━━━━━━━━━━━━━\u001b[0m\u001b[37m\u001b[0m \u001b[1m0s\u001b[0m 10ms/step - accuracy: 0.8740 - loss: 0.1978\n",
      "Epoch 15: ReduceLROnPlateau reducing learning rate to 2.0000000949949027e-05.\n",
      "\u001b[1m26427/26427\u001b[0m \u001b[32m━━━━━━━━━━━━━━━━━━━━\u001b[0m\u001b[37m\u001b[0m \u001b[1m280s\u001b[0m 11ms/step - accuracy: 0.8740 - loss: 0.1978 - val_accuracy: 0.8296 - val_loss: 0.4642 - learning_rate: 1.0000e-04\n",
      "Epoch 15: early stopping\n",
      "Restoring model weights from the end of the best epoch: 5.\n"
     ]
    }
   ],
   "source": [
    "batch_size = 32\n",
    "epochs = 50\n",
    "\n",
    "early_stopping = EarlyStopping(\n",
    "    monitor='val_loss',\n",
    "    patience=10,\n",
    "    restore_best_weights=True,\n",
    "    verbose=1\n",
    ")\n",
    "\n",
    "reduce_lr = ReduceLROnPlateau(\n",
    "    monitor='val_loss',\n",
    "    factor=0.2,\n",
    "    patience=5,\n",
    "    min_lr=1e-6,\n",
    "    verbose=1\n",
    ")\n",
    "\n",
    "history = model.fit(\n",
    "    x_train_rnn, y_train_rnn,\n",
    "    validation_data=(x_val_rnn, y_val_rnn),\n",
    "    epochs=epochs,\n",
    "    batch_size=batch_size,\n",
    "    class_weight=class_weights_dict,\n",
    "    callbacks=[early_stopping, reduce_lr],\n",
    "    verbose=1\n",
    ")"
   ]
  },
  {
   "cell_type": "code",
   "execution_count": 153,
   "id": "b7640eb2-b541-4f14-a5f8-edd28cbe071d",
   "metadata": {},
   "outputs": [
    {
     "name": "stdout",
     "output_type": "stream",
     "text": [
      "\n",
      "Test Loss: 0.4134\n",
      "Test Accuracy: 0.8452\n",
      "\u001b[1m3304/3304\u001b[0m \u001b[32m━━━━━━━━━━━━━━━━━━━━\u001b[0m\u001b[37m\u001b[0m \u001b[1m15s\u001b[0m 4ms/step\n",
      "\n",
      "Classification Report:\n",
      "              precision    recall  f1-score   support\n",
      "\n",
      "      Benign       0.98      0.85      0.91     90162\n",
      "     Malware       0.62      0.82      0.71      8170\n",
      "    Phishing       0.24      0.76      0.36      4335\n",
      "        Spam       0.87      0.88      0.88      3037\n",
      "\n",
      "    accuracy                           0.85    105704\n",
      "   macro avg       0.68      0.83      0.71    105704\n",
      "weighted avg       0.92      0.85      0.87    105704\n",
      "\n"
     ]
    },
    {
     "data": {
      "image/png": "[encoded data removed]",
      "text/plain": [
       "<Figure size 800x600 with 2 Axes>"
      ]
     },
     "metadata": {},
     "output_type": "display_data"
    }
   ],
   "source": [
    "test_loss, test_acc = model.evaluate(x_test_rnn, y_test_rnn, verbose=0)\n",
    "print(f\"\\nTest Loss: {test_loss:.4f}\")\n",
    "print(f\"Test Accuracy: {test_acc:.4f}\")\n",
    "\n",
    "y_pred_probs = model.predict(x_test_rnn)\n",
    "y_pred = np.argmax(y_pred_probs, axis=1)\n",
    "\n",
    "target_names = le_label.classes_  # e.g., ['Benign','Phishing','Spam','Malware']\n",
    "print(\"\\nClassification Report:\")\n",
    "print(classification_report(y_test_rnn, y_pred, target_names=target_names, zero_division=0))\n",
    "\n",
    "conf_mat = confusion_matrix(y_test_rnn, y_pred)\n",
    "plt.figure(figsize=(8,6))\n",
    "sns.heatmap(conf_mat, annot=True, fmt='d', cmap='Blues',\n",
    "            xticklabels=target_names, yticklabels=target_names)\n",
    "plt.xlabel('Predicted')\n",
    "plt.ylabel('Actual')\n",
    "plt.title('Confusion Matrix')\n",
    "plt.show()"
   ]
  },
  {
   "cell_type": "code",
   "execution_count": 154,
   "id": "88794a80-82ff-4f36-b432-898509ac9e2e",
   "metadata": {},
   "outputs": [
    {
     "name": "stderr",
     "output_type": "stream",
     "text": [
      "WARNING:absl:You are saving your model as an HDF5 file via `model.save()` or `keras.saving.save_model(model)`. This file format is considered legacy. We recommend using instead the native Keras format, e.g. `model.save('my_model.keras')` or `keras.saving.save_model(model, 'my_model.keras')`. \n"
     ]
    },
    {
     "name": "stdout",
     "output_type": "stream",
     "text": [
      "Model saved to 'model_batchsize32_sequence5.h5'.\n",
      "Saved label encoders and scaler.\n"
     ]
    }
   ],
   "source": [
    "model.save('models/model_batchsize32_sequence5.h5')\n",
    "print(\"Model saved to 'model_batchsize32_sequence5.h5'.\")\n",
    "\n",
    "# Save label encoders, scaler\n",
    "joblib.dump(le_label, 'encoders/label_encoder.pkl')\n",
    "joblib.dump(le_tld, 'encoders/le_dns_top_level_domain.pkl')\n",
    "joblib.dump(le_sld, 'encoders/le_dns_second_level_domain.pkl')\n",
    "joblib.dump(scaler,  'encoders/scaler.pkl')\n",
    "print(\"Saved label encoders and scaler.\")"
   ]
  },
  {
   "cell_type": "code",
   "execution_count": null,
   "id": "e73b1dc3-20c0-46b5-8e55-4df3539c1ba6",
   "metadata": {},
   "outputs": [],
   "source": []
  }
 ],
 "metadata": {
  "kernelspec": {
   "display_name": "Python 3 (ipykernel)",
   "language": "python",
   "name": "python3"
  },
  "language_info": {
   "codemirror_mode": {
    "name": "ipython",
    "version": 3
   },
   "file_extension": ".py",
   "mimetype": "text/x-python",
   "name": "python",
   "nbconvert_exporter": "python",
   "pygments_lexer": "ipython3",
   "version": "3.10.6"
  }
 },
 "nbformat": 4,
 "nbformat_minor": 5
}
