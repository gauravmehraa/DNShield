{
 "cells": [
  {
   "cell_type": "code",
   "execution_count": 16,
   "id": "98dac0f4-15c5-4217-b1a1-0531cce75071",
   "metadata": {},
   "outputs": [],
   "source": [
    "import pandas as pd\n",
    "import numpy as np\n",
    "import ast\n",
    "import joblib\n",
    "import matplotlib.pyplot as plt\n",
    "import seaborn as sns\n",
    "\n",
    "from collections import Counter\n",
    "from sklearn.model_selection import train_test_split\n",
    "from sklearn.utils.class_weight import compute_class_weight\n",
    "from sklearn.preprocessing import LabelEncoder, StandardScaler\n",
    "\n",
    "from tensorflow.keras.models import Sequential\n",
    "from tensorflow.keras.layers import Input, LSTM, Dense, Dropout, Bidirectional\n",
    "from tensorflow.keras.optimizers import Adam\n",
    "from tensorflow.keras.callbacks import EarlyStopping, ReduceLROnPlateau\n",
    "\n",
    "from sklearn.metrics import classification_report, confusion_matrix"
   ]
  },
  {
   "cell_type": "code",
   "execution_count": 18,
   "id": "cdd14e12-9ad2-4bc1-904d-3ec2b735b7c0",
   "metadata": {},
   "outputs": [],
   "source": [
    "columns_dtype = {\n",
    "    'flow_id': 'string',\n",
    "    'timestamp': 'string',  # parse as datetime later\n",
    "    'src_ip': 'string',\n",
    "    'src_port': 'Int64',\n",
    "    'dst_ip': 'string',\n",
    "    'dst_port': 'Int64',\n",
    "    'protocol': 'string',\n",
    "    'duration': 'float',\n",
    "    'packets_numbers': 'Int64',\n",
    "    'receiving_packets_numbers': 'Int64',\n",
    "    'sending_packets_numbers': 'Int64',\n",
    "    'handshake_duration': 'string',\n",
    "    'delta_start': 'string',\n",
    "    'total_bytes': 'Int64',\n",
    "    'receiving_bytes': 'Int64',\n",
    "    'sending_bytes': 'Int64',\n",
    "    'packets_rate': 'float',\n",
    "    'receiving_packets_rate': 'float',\n",
    "    'sending_packets_rate': 'float',\n",
    "    'packets_len_rate': 'float',\n",
    "    'receiving_packets_len_rate': 'float',\n",
    "    'sending_packets_len_rate': 'float',\n",
    "    'min_packets_len': 'Int64',\n",
    "    'max_packets_len': 'Int64',\n",
    "    'mean_packets_len': 'float',\n",
    "    'median_packets_len': 'float',\n",
    "    'mode_packets_len': 'float',\n",
    "    'standard_deviation_packets_len': 'float',\n",
    "    'variance_packets_len': 'float',\n",
    "    'coefficient_of_variation_packets_len': 'float',\n",
    "    'skewness_packets_len': 'float',\n",
    "    'min_receiving_packets_len': 'Int64',\n",
    "    'max_receiving_packets_len': 'Int64',\n",
    "    'mean_receiving_packets_len': 'float',\n",
    "    'median_receiving_packets_len': 'float',\n",
    "    'mode_receiving_packets_len': 'float',\n",
    "    'standard_deviation_receiving_packets_len': 'float',\n",
    "    'variance_receiving_packets_len': 'float',\n",
    "    'coefficient_of_variation_receiving_packets_len': 'float',\n",
    "    'skewness_receiving_packets_len': 'float',\n",
    "    'min_sending_packets_len': 'Int64',\n",
    "    'max_sending_packets_len': 'Int64',\n",
    "    'mean_sending_packets_len': 'float',\n",
    "    'median_sending_packets_len': 'float',\n",
    "    'mode_sending_packets_len': 'float',\n",
    "    'standard_deviation_sending_packets_len': 'float',\n",
    "    'variance_sending_packets_len': 'float',\n",
    "    'coefficient_of_variation_sending_packets_len': 'float',\n",
    "    'skewness_sending_packets_len': 'float',\n",
    "    'min_receiving_packets_delta_len': 'Int64',\n",
    "    'max_receiving_packets_delta_len': 'Int64',\n",
    "    'mean_receiving_packets_delta_len': 'float',\n",
    "    'median_receiving_packets_delta_len': 'float',\n",
    "    'standard_deviation_receiving_packets_delta_len': 'float',\n",
    "    'variance_receiving_packets_delta_len': 'float',\n",
    "    'mode_receiving_packets_delta_len': 'float',\n",
    "    'coefficient_of_variation_receiving_packets_delta_len': 'float',\n",
    "    'skewness_receiving_packets_delta_len': 'float',\n",
    "    'min_sending_packets_delta_len': 'Int64',\n",
    "    'max_sending_packets_delta_len': 'Int64',\n",
    "    'mean_sending_packets_delta_len': 'float',\n",
    "    'median_sending_packets_delta_len': 'float',\n",
    "    'standard_deviation_sending_packets_delta_len': 'float',\n",
    "    'variance_sending_packets_delta_len': 'float',\n",
    "    'mode_sending_packets_delta_len': 'float',\n",
    "    'coefficient_of_variation_sending_packets_delta_len': 'float',\n",
    "    'skewness_sending_packets_delta_len': 'float',\n",
    "    'max_receiving_packets_delta_time': 'float',\n",
    "    'mean_receiving_packets_delta_time': 'float',\n",
    "    'median_receiving_packets_delta_time': 'float',\n",
    "    'standard_deviation_receiving_packets_delta_time': 'float',\n",
    "    'variance_receiving_packets_delta_time': 'float',\n",
    "    'mode_receiving_packets_delta_time': 'float',\n",
    "    'coefficient_of_variation_receiving_packets_delta_time': 'float',\n",
    "    'skewness_sreceiving_packets_delta_time': 'float',\n",
    "    'min_sending_packets_delta_time': 'float',\n",
    "    'max_sending_packets_delta_time': 'float',\n",
    "    'mean_sending_packets_delta_time': 'float',\n",
    "    'median_sending_packets_delta_time': 'float',\n",
    "    'standard_deviation_sending_packets_delta_time': 'float',\n",
    "    'variance_sending_packets_delta_time': 'float',\n",
    "    'mode_sending_packets_delta_time': 'float',\n",
    "    'coefficient_of_variation_sending_packets_delta_time': 'float',\n",
    "    'skewness_sending_packets_delta_time': 'float',\n",
    "    'dns_domain_name': 'string',\n",
    "    'dns_top_level_domain': 'string',\n",
    "    'dns_second_level_domain': 'string',\n",
    "    'dns_domain_name_length': 'Int64',\n",
    "    'dns_subdomain_name_length': 'Int64',\n",
    "    'uni_gram_domain_name': 'string',\n",
    "    'bi_gram_domain_name': 'string',\n",
    "    'tri_gram_domain_name': 'string',\n",
    "    'numerical_percentage': 'float',\n",
    "    'character_distribution': 'string',\n",
    "    'character_entropy': 'float',\n",
    "    'max_continuous_numeric_len': 'Int64',\n",
    "    'max_continuous_alphabet_len': 'Int64',\n",
    "    'max_continuous_consonants_len': 'Int64',\n",
    "    'max_continuous_same_alphabet_len': 'Int64',\n",
    "    'vowels_consonant_ratio': 'float',\n",
    "    'conv_freq_vowels_consonants': 'float',\n",
    "    'distinct_ttl_values': 'Int64',\n",
    "    'ttl_values_min': 'Int64',\n",
    "    'ttl_values_max': 'Int64',\n",
    "    'ttl_values_mean': 'float',\n",
    "    'ttl_values_mode': 'float',\n",
    "    'ttl_values_variance': 'float',\n",
    "    'ttl_values_standard_deviation': 'float',\n",
    "    'ttl_values_median': 'float',\n",
    "    'ttl_values_skewness': 'float',\n",
    "    'ttl_values_coefficient_of_variation': 'float',\n",
    "    'distinct_A_records': 'Int64',\n",
    "    'distinct_NS_records': 'Int64',\n",
    "    'average_authority_resource_records': 'float',\n",
    "    'average_additional_resource_records': 'float',\n",
    "    'average_answer_resource_records': 'float',\n",
    "    'query_resource_record_type': 'string',\n",
    "    'ans_resource_record_type': 'string',\n",
    "    'query_resource_record_class': 'string',\n",
    "    'ans_resource_record_class': 'string',\n",
    "    'label': 'string'\n",
    "}"
   ]
  },
  {
   "cell_type": "code",
   "execution_count": 19,
   "id": "c8f49a47-1193-4689-a0e7-920650c30f12",
   "metadata": {},
   "outputs": [
    {
     "name": "stdout",
     "output_type": "stream",
     "text": [
      "Benign: (901654, 122)\n",
      "Phishing: (43348, 122)\n",
      "Spam: (30371, 122)\n",
      "Malware: (81698, 122)\n",
      "Combined dataset shape: (1057071, 122)\n"
     ]
    }
   ],
   "source": [
    "benign_df = pd.read_csv('../benign.csv', dtype=columns_dtype, low_memory=False)\n",
    "phishing_df = pd.read_csv('../phishing.csv', dtype=columns_dtype, low_memory=False)\n",
    "spam_df = pd.read_csv('../spam.csv', dtype=columns_dtype, low_memory=False)\n",
    "malware_df = pd.read_csv('../malware.csv', dtype=columns_dtype, low_memory=False)\n",
    "\n",
    "print(\"Benign:\", benign_df.shape)\n",
    "print(\"Phishing:\", phishing_df.shape)\n",
    "print(\"Spam:\", spam_df.shape)\n",
    "print(\"Malware:\", malware_df.shape)\n",
    "\n",
    "data = pd.concat([benign_df, phishing_df, spam_df, malware_df], ignore_index=True)\n",
    "print(\"Combined dataset shape:\", data.shape)"
   ]
  },
  {
   "cell_type": "code",
   "execution_count": 20,
   "id": "afdf2c6e-a054-4563-92f4-ec892ebc9e44",
   "metadata": {},
   "outputs": [
    {
     "name": "stdout",
     "output_type": "stream",
     "text": [
      "Missing Values (%): coefficient_of_variation_receiving_packets_delta_len     0.268667\n",
      "coefficient_of_variation_sending_packets_delta_len       0.241516\n",
      "dns_top_level_domain                                     0.000378\n",
      "dns_subdomain_name_length                               96.989228\n",
      "ttl_values_coefficient_of_variation                      0.074167\n",
      "dtype: float64\n",
      "\n",
      "Dropped columns: ['dns_subdomain_name_length']\n",
      "Shape after dropping columns: (1057071, 121)\n",
      "\n",
      "Data sorted by timestamp.\n"
     ]
    }
   ],
   "source": [
    "missing_vals = data.isnull().sum()\n",
    "missing_pct = (missing_vals / len(data)) * 100\n",
    "print(\"Missing Values (%):\", missing_pct[missing_pct > 0])\n",
    "\n",
    "threshold = 50\n",
    "cols_to_drop = missing_pct[missing_pct > threshold].index\n",
    "data_cleaned = data.drop(cols_to_drop, axis=1)\n",
    "print(\"\\nDropped columns:\", list(cols_to_drop))\n",
    "print(\"Shape after dropping columns:\", data_cleaned.shape)\n",
    "\n",
    "# Parse timestamp\n",
    "data_cleaned['timestamp'] = pd.to_datetime(data_cleaned['timestamp'], errors='coerce')\n",
    "data_cleaned = data_cleaned.dropna(subset=['timestamp'])\n",
    "# Sort by timestamp only\n",
    "data_cleaned = data_cleaned.sort_values('timestamp').reset_index(drop=True)\n",
    "print(\"\\nData sorted by timestamp.\")"
   ]
  },
  {
   "cell_type": "code",
   "execution_count": 21,
   "id": "58a62dcc-fcc4-4134-877c-08c13c40544d",
   "metadata": {},
   "outputs": [
    {
     "name": "stdout",
     "output_type": "stream",
     "text": [
      "Label classes: ['Benign' 'Malware' 'Phishing' 'Spam']\n"
     ]
    }
   ],
   "source": [
    "le_label = LabelEncoder()\n",
    "data_cleaned['label_encoded'] = le_label.fit_transform(data_cleaned['label'])\n",
    "print(\"Label classes:\", le_label.classes_)"
   ]
  },
  {
   "cell_type": "code",
   "execution_count": 26,
   "id": "8af2276a-a795-4d4d-bf9c-be9bd8f9ff33",
   "metadata": {},
   "outputs": [
    {
     "name": "stdout",
     "output_type": "stream",
     "text": [
      "Selected shape: (1057071, 28)\n"
     ]
    }
   ],
   "source": [
    "essential_features = [\n",
    "    'timestamp',\n",
    "    'dns_top_level_domain',\n",
    "    'dns_second_level_domain',\n",
    "    'dns_domain_name_length',\n",
    "    'uni_gram_domain_name',\n",
    "    'bi_gram_domain_name',\n",
    "    'tri_gram_domain_name',\n",
    "    'numerical_percentage',\n",
    "    'character_entropy',\n",
    "    'max_continuous_numeric_len',\n",
    "    'max_continuous_alphabet_len',\n",
    "    'vowels_consonant_ratio',\n",
    "    'conv_freq_vowels_consonants',\n",
    "    'query_resource_record_type',\n",
    "    'ans_resource_record_type',\n",
    "    'query_resource_record_class',\n",
    "    'ans_resource_record_class',\n",
    "    'packets_numbers',\n",
    "    'receiving_packets_numbers',\n",
    "    'sending_packets_numbers',\n",
    "    'receiving_bytes',\n",
    "    'sending_bytes',\n",
    "    'distinct_ttl_values',\n",
    "    'ttl_values_min',\n",
    "    'ttl_values_max',\n",
    "    'ttl_values_mean',\n",
    "    'character_distribution',\n",
    "    'label_encoded'\n",
    "]\n",
    "\n",
    "data_selected = data_cleaned[essential_features].copy()\n",
    "print(\"Selected shape:\", data_selected.shape)"
   ]
  },
  {
   "cell_type": "code",
   "execution_count": 27,
   "id": "7fed476a-d1d1-493d-bbdd-370d4e209d51",
   "metadata": {},
   "outputs": [],
   "source": [
    "placeholder = 'unknown'\n",
    "data_selected['dns_top_level_domain'] = data_selected['dns_top_level_domain'].fillna(placeholder)\n",
    "data_selected['dns_second_level_domain'] = data_selected['dns_second_level_domain'].fillna(placeholder)\n",
    "\n",
    "le_tld = LabelEncoder()\n",
    "le_sld = LabelEncoder()\n",
    "\n",
    "data_selected['dns_top_level_domain_encoded'] = le_tld.fit_transform(data_selected['dns_top_level_domain'])\n",
    "data_selected['dns_second_level_domain_encoded'] = le_sld.fit_transform(data_selected['dns_second_level_domain'])\n",
    "\n",
    "data_selected.drop(['dns_top_level_domain','dns_second_level_domain'], axis=1, inplace=True)"
   ]
  },
  {
   "cell_type": "code",
   "execution_count": 28,
   "id": "bc187198-a631-4315-84a1-4c5da91b95e0",
   "metadata": {},
   "outputs": [
    {
     "name": "stdout",
     "output_type": "stream",
     "text": [
      "Created n-gram counts, dropped original n-gram columns.\n"
     ]
    }
   ],
   "source": [
    "def parse_list_safe(list_entry):\n",
    "    if isinstance(list_entry, list):\n",
    "        return list_entry\n",
    "    elif isinstance(list_entry, str):\n",
    "        try:\n",
    "            return ast.literal_eval(list_entry)\n",
    "        except (ValueError, SyntaxError):\n",
    "            return []\n",
    "    else:\n",
    "        return []\n",
    "\n",
    "ngram_cols = ['uni_gram_domain_name','bi_gram_domain_name','tri_gram_domain_name']\n",
    "for col in ngram_cols:\n",
    "    data_selected[col] = data_selected[col].apply(parse_list_safe)\n",
    "\n",
    "count_cols = ['uni_gram_count','bi_gram_count','tri_gram_count']\n",
    "for ncol, ccol in zip(ngram_cols, count_cols):\n",
    "    data_selected[ccol] = data_selected[ncol].apply(len)\n",
    "\n",
    "data_selected.drop(ngram_cols, axis=1, inplace=True)\n",
    "print(\"Created n-gram counts, dropped original n-gram columns.\")"
   ]
  },
  {
   "cell_type": "code",
   "execution_count": 29,
   "id": "4673dc08-8f58-411f-8ba6-037befb5aaca",
   "metadata": {},
   "outputs": [
    {
     "name": "stdout",
     "output_type": "stream",
     "text": [
      "Processed resource record columns.\n"
     ]
    }
   ],
   "source": [
    "record_cols = [\n",
    "    'query_resource_record_type',\n",
    "    'ans_resource_record_type',\n",
    "    'query_resource_record_class',\n",
    "    'ans_resource_record_class'\n",
    "]\n",
    "for rcol in record_cols:\n",
    "    data_selected[rcol] = data_selected[rcol].apply(parse_list_safe)\n",
    "    ccount = f\"{rcol}_count\"\n",
    "    data_selected[ccount] = data_selected[rcol].apply(lambda x: len(set(x)) if isinstance(x,list) else 0)\n",
    "\n",
    "data_selected.drop(record_cols, axis=1, inplace=True)\n",
    "print(\"Processed resource record columns.\")"
   ]
  },
  {
   "cell_type": "code",
   "execution_count": 30,
   "id": "ffa18098-b332-4d41-8ffe-0a64fa681ce1",
   "metadata": {},
   "outputs": [
    {
     "name": "stdout",
     "output_type": "stream",
     "text": [
      "Extracted vowel_count/consonant_count from 'character_distribution'.\n"
     ]
    }
   ],
   "source": [
    "vowels = set('aeiou')\n",
    "consonants = set('bcdfghjklmnpqrstvwxyz')\n",
    "\n",
    "def extract_vowels_consonants(dist):\n",
    "    vowel_count = 0\n",
    "    consonant_count = 0\n",
    "    if isinstance(dist, str):\n",
    "        try:\n",
    "            dist = ast.literal_eval(dist)\n",
    "        except (ValueError, SyntaxError):\n",
    "            dist = {}\n",
    "    if isinstance(dist, dict):\n",
    "        for ch, c in dist.items():\n",
    "            if ch in vowels:\n",
    "                vowel_count += c\n",
    "            elif ch in consonants:\n",
    "                consonant_count += c\n",
    "    return pd.Series({'vowel_count': vowel_count, 'consonant_count': consonant_count})\n",
    "\n",
    "char_dist_feats = data_selected['character_distribution'].apply(extract_vowels_consonants)\n",
    "data_selected = pd.concat([data_selected, char_dist_feats], axis=1)\n",
    "data_selected.drop('character_distribution', axis=1, inplace=True)\n",
    "print(\"Extracted vowel_count/consonant_count from 'character_distribution'.\")"
   ]
  },
  {
   "cell_type": "code",
   "execution_count": 31,
   "id": "e8a37529-e806-489b-92ac-a5967e4e2991",
   "metadata": {},
   "outputs": [
    {
     "name": "stdout",
     "output_type": "stream",
     "text": [
      "X shape: (1057071, 28) | y shape: (1057071,)\n"
     ]
    }
   ],
   "source": [
    "X = data_selected.drop(['label_encoded'], axis=1)\n",
    "y = data_selected['label_encoded']\n",
    "print(\"X shape:\", X.shape,\"| y shape:\", y.shape)"
   ]
  },
  {
   "cell_type": "code",
   "execution_count": 32,
   "id": "466e2295-a6f5-4e2b-bba1-6a69535b300e",
   "metadata": {},
   "outputs": [
    {
     "name": "stdout",
     "output_type": "stream",
     "text": [
      "Scaled numeric features.\n"
     ]
    }
   ],
   "source": [
    "# Exclude 'timestamp' from scaling\n",
    "ignore_cols = ['timestamp']\n",
    "numeric_cols = [col for col in X.columns\n",
    "                if (str(X[col].dtype) in ['int64','float64'] and col not in ignore_cols)]\n",
    "\n",
    "scaler = StandardScaler()\n",
    "scaler.fit(X[numeric_cols])\n",
    "\n",
    "X_scaled = X.copy()\n",
    "X_scaled[numeric_cols] = scaler.transform(X[numeric_cols])\n",
    "print(\"Scaled numeric features.\")"
   ]
  },
  {
   "cell_type": "code",
   "execution_count": 33,
   "id": "a416ca2b-3a51-4715-9e62-dacf2d05eade",
   "metadata": {},
   "outputs": [
    {
     "name": "stdout",
     "output_type": "stream",
     "text": [
      "Train shape: (845666, 28) (845666,)\n",
      "Val shape: (105697, 28) (105697,)\n",
      "Test shape: (105708, 28) (105708,)\n"
     ]
    }
   ],
   "source": [
    "x_train_val, x_test, y_train_val, y_test = train_test_split(\n",
    "    X_scaled, y, test_size=0.1, random_state=42, stratify=y\n",
    ")\n",
    "x_train, x_val, y_train, y_val = train_test_split(\n",
    "    x_train_val, y_train_val, test_size=0.1111, random_state=42, stratify=y_train_val\n",
    ")\n",
    "\n",
    "print(\"Train shape:\", x_train.shape, y_train.shape)\n",
    "print(\"Val shape:\",   x_val.shape,   y_val.shape)\n",
    "print(\"Test shape:\",  x_test.shape,  y_test.shape)"
   ]
  },
  {
   "cell_type": "code",
   "execution_count": 42,
   "id": "76d6fd2d-aeeb-40ba-b660-62f165afa08c",
   "metadata": {},
   "outputs": [
    {
     "name": "stdout",
     "output_type": "stream",
     "text": [
      "x_train_rnn: (845657, 10, 27) y_train_rnn: (845657,)\n",
      "x_val_rnn: (105688, 10, 27) y_val_rnn: (105688,)\n",
      "x_test_rnn: (105699, 10, 27) y_test_rnn: (105699,)\n"
     ]
    }
   ],
   "source": [
    "def create_sequences_sorted(x_df, y_series, seq_len):\n",
    "    combined = x_df.copy()\n",
    "    combined['label_encoded'] = y_series.values\n",
    "\n",
    "    # Sort by timestamp if available\n",
    "    if 'timestamp' in combined.columns:\n",
    "        combined = combined.sort_values('timestamp').reset_index(drop=True)\n",
    "\n",
    "    # Drop timestamp + label from final input features\n",
    "    final_x = combined.drop(['timestamp','label_encoded'], axis=1, errors='ignore')\n",
    "    final_y = combined['label_encoded']\n",
    "\n",
    "    # Ensure numeric type\n",
    "    final_x = final_x.astype('float32', errors='ignore')  # or 'float64'\n",
    "\n",
    "    X_seq, y_seq = [], []\n",
    "    for i in range(len(final_x) - seq_len + 1):\n",
    "        window_x = final_x.iloc[i:i+seq_len].values\n",
    "        window_y = final_y.iloc[i+seq_len-1]\n",
    "        X_seq.append(window_x)\n",
    "        y_seq.append(window_y)\n",
    "\n",
    "    return np.array(X_seq), np.array(y_seq)\n",
    "\n",
    "sequence_length = 10\n",
    "\n",
    "x_train_rnn, y_train_rnn = create_sequences_sorted(x_train, y_train, sequence_length)\n",
    "x_val_rnn,   y_val_rnn   = create_sequences_sorted(x_val,   y_val,   sequence_length)\n",
    "x_test_rnn,  y_test_rnn  = create_sequences_sorted(x_test,  y_test,  sequence_length)\n",
    "\n",
    "print(\"x_train_rnn:\", x_train_rnn.shape,\"y_train_rnn:\", y_train_rnn.shape)\n",
    "print(\"x_val_rnn:\",   x_val_rnn.shape,  \"y_val_rnn:\",   y_val_rnn.shape)\n",
    "print(\"x_test_rnn:\",  x_test_rnn.shape, \"y_test_rnn:\",  y_test_rnn.shape)"
   ]
  },
  {
   "cell_type": "code",
   "execution_count": 43,
   "id": "dd8a4d86-e36e-42b8-aa36-cb18e62afb2b",
   "metadata": {},
   "outputs": [
    {
     "name": "stdout",
     "output_type": "stream",
     "text": [
      "Class Weights: {0: 0.29309275191939244, 1: 3.2346616380299578, 2: 6.096319098013207, 3: 8.701249125406429}\n"
     ]
    }
   ],
   "source": [
    "class_weights = compute_class_weight(\n",
    "    class_weight='balanced',\n",
    "    classes=np.unique(y_train_rnn),\n",
    "    y=y_train_rnn\n",
    ")\n",
    "class_weights_dict = {i: w for i,w in enumerate(class_weights)}\n",
    "print(\"Class Weights:\", class_weights_dict)"
   ]
  },
  {
   "cell_type": "code",
   "execution_count": 44,
   "id": "bad2863e-810a-4939-8f89-5d9cb547fec5",
   "metadata": {},
   "outputs": [
    {
     "data": {
      "text/html": [
       "<pre style=\"white-space:pre;overflow-x:auto;line-height:normal;font-family:Menlo,'DejaVu Sans Mono',consolas,'Courier New',monospace\"><span style=\"font-weight: bold\">Model: \"sequential_1\"</span>\n",
       "</pre>\n"
      ],
      "text/plain": [
       "\u001b[1mModel: \"sequential_1\"\u001b[0m\n"
      ]
     },
     "metadata": {},
     "output_type": "display_data"
    },
    {
     "data": {
      "text/html": [
       "<pre style=\"white-space:pre;overflow-x:auto;line-height:normal;font-family:Menlo,'DejaVu Sans Mono',consolas,'Courier New',monospace\">┏━━━━━━━━━━━━━━━━━━━━━━━━━━━━━━━━━━━━━━┳━━━━━━━━━━━━━━━━━━━━━━━━━━━━━┳━━━━━━━━━━━━━━━━━┓\n",
       "┃<span style=\"font-weight: bold\"> Layer (type)                         </span>┃<span style=\"font-weight: bold\"> Output Shape                </span>┃<span style=\"font-weight: bold\">         Param # </span>┃\n",
       "┡━━━━━━━━━━━━━━━━━━━━━━━━━━━━━━━━━━━━━━╇━━━━━━━━━━━━━━━━━━━━━━━━━━━━━╇━━━━━━━━━━━━━━━━━┩\n",
       "│ bidirectional_2 (<span style=\"color: #0087ff; text-decoration-color: #0087ff\">Bidirectional</span>)      │ (<span style=\"color: #00d7ff; text-decoration-color: #00d7ff\">None</span>, <span style=\"color: #00af00; text-decoration-color: #00af00\">10</span>, <span style=\"color: #00af00; text-decoration-color: #00af00\">256</span>)             │         <span style=\"color: #00af00; text-decoration-color: #00af00\">159,744</span> │\n",
       "├──────────────────────────────────────┼─────────────────────────────┼─────────────────┤\n",
       "│ dropout_3 (<span style=\"color: #0087ff; text-decoration-color: #0087ff\">Dropout</span>)                  │ (<span style=\"color: #00d7ff; text-decoration-color: #00d7ff\">None</span>, <span style=\"color: #00af00; text-decoration-color: #00af00\">10</span>, <span style=\"color: #00af00; text-decoration-color: #00af00\">256</span>)             │               <span style=\"color: #00af00; text-decoration-color: #00af00\">0</span> │\n",
       "├──────────────────────────────────────┼─────────────────────────────┼─────────────────┤\n",
       "│ bidirectional_3 (<span style=\"color: #0087ff; text-decoration-color: #0087ff\">Bidirectional</span>)      │ (<span style=\"color: #00d7ff; text-decoration-color: #00d7ff\">None</span>, <span style=\"color: #00af00; text-decoration-color: #00af00\">128</span>)                 │         <span style=\"color: #00af00; text-decoration-color: #00af00\">164,352</span> │\n",
       "├──────────────────────────────────────┼─────────────────────────────┼─────────────────┤\n",
       "│ dropout_4 (<span style=\"color: #0087ff; text-decoration-color: #0087ff\">Dropout</span>)                  │ (<span style=\"color: #00d7ff; text-decoration-color: #00d7ff\">None</span>, <span style=\"color: #00af00; text-decoration-color: #00af00\">128</span>)                 │               <span style=\"color: #00af00; text-decoration-color: #00af00\">0</span> │\n",
       "├──────────────────────────────────────┼─────────────────────────────┼─────────────────┤\n",
       "│ dense_2 (<span style=\"color: #0087ff; text-decoration-color: #0087ff\">Dense</span>)                      │ (<span style=\"color: #00d7ff; text-decoration-color: #00d7ff\">None</span>, <span style=\"color: #00af00; text-decoration-color: #00af00\">128</span>)                 │          <span style=\"color: #00af00; text-decoration-color: #00af00\">16,512</span> │\n",
       "├──────────────────────────────────────┼─────────────────────────────┼─────────────────┤\n",
       "│ dropout_5 (<span style=\"color: #0087ff; text-decoration-color: #0087ff\">Dropout</span>)                  │ (<span style=\"color: #00d7ff; text-decoration-color: #00d7ff\">None</span>, <span style=\"color: #00af00; text-decoration-color: #00af00\">128</span>)                 │               <span style=\"color: #00af00; text-decoration-color: #00af00\">0</span> │\n",
       "├──────────────────────────────────────┼─────────────────────────────┼─────────────────┤\n",
       "│ dense_3 (<span style=\"color: #0087ff; text-decoration-color: #0087ff\">Dense</span>)                      │ (<span style=\"color: #00d7ff; text-decoration-color: #00d7ff\">None</span>, <span style=\"color: #00af00; text-decoration-color: #00af00\">4</span>)                   │             <span style=\"color: #00af00; text-decoration-color: #00af00\">516</span> │\n",
       "└──────────────────────────────────────┴─────────────────────────────┴─────────────────┘\n",
       "</pre>\n"
      ],
      "text/plain": [
       "┏━━━━━━━━━━━━━━━━━━━━━━━━━━━━━━━━━━━━━━┳━━━━━━━━━━━━━━━━━━━━━━━━━━━━━┳━━━━━━━━━━━━━━━━━┓\n",
       "┃\u001b[1m \u001b[0m\u001b[1mLayer (type)                        \u001b[0m\u001b[1m \u001b[0m┃\u001b[1m \u001b[0m\u001b[1mOutput Shape               \u001b[0m\u001b[1m \u001b[0m┃\u001b[1m \u001b[0m\u001b[1m        Param #\u001b[0m\u001b[1m \u001b[0m┃\n",
       "┡━━━━━━━━━━━━━━━━━━━━━━━━━━━━━━━━━━━━━━╇━━━━━━━━━━━━━━━━━━━━━━━━━━━━━╇━━━━━━━━━━━━━━━━━┩\n",
       "│ bidirectional_2 (\u001b[38;5;33mBidirectional\u001b[0m)      │ (\u001b[38;5;45mNone\u001b[0m, \u001b[38;5;34m10\u001b[0m, \u001b[38;5;34m256\u001b[0m)             │         \u001b[38;5;34m159,744\u001b[0m │\n",
       "├──────────────────────────────────────┼─────────────────────────────┼─────────────────┤\n",
       "│ dropout_3 (\u001b[38;5;33mDropout\u001b[0m)                  │ (\u001b[38;5;45mNone\u001b[0m, \u001b[38;5;34m10\u001b[0m, \u001b[38;5;34m256\u001b[0m)             │               \u001b[38;5;34m0\u001b[0m │\n",
       "├──────────────────────────────────────┼─────────────────────────────┼─────────────────┤\n",
       "│ bidirectional_3 (\u001b[38;5;33mBidirectional\u001b[0m)      │ (\u001b[38;5;45mNone\u001b[0m, \u001b[38;5;34m128\u001b[0m)                 │         \u001b[38;5;34m164,352\u001b[0m │\n",
       "├──────────────────────────────────────┼─────────────────────────────┼─────────────────┤\n",
       "│ dropout_4 (\u001b[38;5;33mDropout\u001b[0m)                  │ (\u001b[38;5;45mNone\u001b[0m, \u001b[38;5;34m128\u001b[0m)                 │               \u001b[38;5;34m0\u001b[0m │\n",
       "├──────────────────────────────────────┼─────────────────────────────┼─────────────────┤\n",
       "│ dense_2 (\u001b[38;5;33mDense\u001b[0m)                      │ (\u001b[38;5;45mNone\u001b[0m, \u001b[38;5;34m128\u001b[0m)                 │          \u001b[38;5;34m16,512\u001b[0m │\n",
       "├──────────────────────────────────────┼─────────────────────────────┼─────────────────┤\n",
       "│ dropout_5 (\u001b[38;5;33mDropout\u001b[0m)                  │ (\u001b[38;5;45mNone\u001b[0m, \u001b[38;5;34m128\u001b[0m)                 │               \u001b[38;5;34m0\u001b[0m │\n",
       "├──────────────────────────────────────┼─────────────────────────────┼─────────────────┤\n",
       "│ dense_3 (\u001b[38;5;33mDense\u001b[0m)                      │ (\u001b[38;5;45mNone\u001b[0m, \u001b[38;5;34m4\u001b[0m)                   │             \u001b[38;5;34m516\u001b[0m │\n",
       "└──────────────────────────────────────┴─────────────────────────────┴─────────────────┘\n"
      ]
     },
     "metadata": {},
     "output_type": "display_data"
    },
    {
     "data": {
      "text/html": [
       "<pre style=\"white-space:pre;overflow-x:auto;line-height:normal;font-family:Menlo,'DejaVu Sans Mono',consolas,'Courier New',monospace\"><span style=\"font-weight: bold\"> Total params: </span><span style=\"color: #00af00; text-decoration-color: #00af00\">341,124</span> (1.30 MB)\n",
       "</pre>\n"
      ],
      "text/plain": [
       "\u001b[1m Total params: \u001b[0m\u001b[38;5;34m341,124\u001b[0m (1.30 MB)\n"
      ]
     },
     "metadata": {},
     "output_type": "display_data"
    },
    {
     "data": {
      "text/html": [
       "<pre style=\"white-space:pre;overflow-x:auto;line-height:normal;font-family:Menlo,'DejaVu Sans Mono',consolas,'Courier New',monospace\"><span style=\"font-weight: bold\"> Trainable params: </span><span style=\"color: #00af00; text-decoration-color: #00af00\">341,124</span> (1.30 MB)\n",
       "</pre>\n"
      ],
      "text/plain": [
       "\u001b[1m Trainable params: \u001b[0m\u001b[38;5;34m341,124\u001b[0m (1.30 MB)\n"
      ]
     },
     "metadata": {},
     "output_type": "display_data"
    },
    {
     "data": {
      "text/html": [
       "<pre style=\"white-space:pre;overflow-x:auto;line-height:normal;font-family:Menlo,'DejaVu Sans Mono',consolas,'Courier New',monospace\"><span style=\"font-weight: bold\"> Non-trainable params: </span><span style=\"color: #00af00; text-decoration-color: #00af00\">0</span> (0.00 B)\n",
       "</pre>\n"
      ],
      "text/plain": [
       "\u001b[1m Non-trainable params: \u001b[0m\u001b[38;5;34m0\u001b[0m (0.00 B)\n"
      ]
     },
     "metadata": {},
     "output_type": "display_data"
    }
   ],
   "source": [
    "num_classes = len(np.unique(y_train_rnn))\n",
    "\n",
    "model = Sequential([\n",
    "    Input(shape=(sequence_length, x_train_rnn.shape[2])),\n",
    "    Bidirectional(LSTM(128, return_sequences=True)),\n",
    "    Dropout(0.4),\n",
    "    Bidirectional(LSTM(64)),\n",
    "    Dropout(0.3),\n",
    "    Dense(128, activation='relu'),\n",
    "    Dropout(0.3),\n",
    "    Dense(num_classes, activation='softmax')\n",
    "])\n",
    "\n",
    "model.compile(\n",
    "    optimizer=Adam(learning_rate=0.0005),\n",
    "    loss='sparse_categorical_crossentropy',\n",
    "    metrics=['accuracy']\n",
    ")\n",
    "\n",
    "model.summary()"
   ]
  },
  {
   "cell_type": "code",
   "execution_count": 40,
   "id": "a2c29081-b7c5-406d-8bbc-2afda9c5dc68",
   "metadata": {},
   "outputs": [],
   "source": [
    "x_train_rnn = x_train_rnn.astype('float32')\n",
    "x_val_rnn   = x_val_rnn.astype('float32')\n",
    "x_test_rnn  = x_test_rnn.astype('float32')"
   ]
  },
  {
   "cell_type": "code",
   "execution_count": 49,
   "id": "78731802-3a70-4206-9e57-1c2fe36eff2d",
   "metadata": {},
   "outputs": [
    {
     "name": "stdout",
     "output_type": "stream",
     "text": [
      "Epoch 1/50\n",
      "\u001b[1m13214/13214\u001b[0m \u001b[32m━━━━━━━━━━━━━━━━━━━━\u001b[0m\u001b[37m\u001b[0m \u001b[1m252s\u001b[0m 19ms/step - accuracy: 0.7220 - loss: 0.8477 - val_accuracy: 0.8817 - val_loss: 0.5263 - learning_rate: 1.0000e-04\n",
      "Epoch 2/50\n",
      "\u001b[1m13214/13214\u001b[0m \u001b[32m━━━━━━━━━━━━━━━━━━━━\u001b[0m\u001b[37m\u001b[0m \u001b[1m255s\u001b[0m 19ms/step - accuracy: 0.7194 - loss: 0.8518 - val_accuracy: 0.8738 - val_loss: 0.5070 - learning_rate: 1.0000e-04\n",
      "Epoch 3/50\n",
      "\u001b[1m13214/13214\u001b[0m \u001b[32m━━━━━━━━━━━━━━━━━━━━\u001b[0m\u001b[37m\u001b[0m \u001b[1m257s\u001b[0m 19ms/step - accuracy: 0.7271 - loss: 0.8351 - val_accuracy: 0.8785 - val_loss: 0.5066 - learning_rate: 1.0000e-04\n",
      "Epoch 4/50\n",
      "\u001b[1m13214/13214\u001b[0m \u001b[32m━━━━━━━━━━━━━━━━━━━━\u001b[0m\u001b[37m\u001b[0m \u001b[1m258s\u001b[0m 20ms/step - accuracy: 0.7167 - loss: 0.8475 - val_accuracy: 0.8551 - val_loss: 0.5267 - learning_rate: 1.0000e-04\n",
      "Epoch 5/50\n",
      "\u001b[1m13214/13214\u001b[0m \u001b[32m━━━━━━━━━━━━━━━━━━━━\u001b[0m\u001b[37m\u001b[0m \u001b[1m259s\u001b[0m 20ms/step - accuracy: 0.7283 - loss: 0.8254 - val_accuracy: 0.8659 - val_loss: 0.5201 - learning_rate: 1.0000e-04\n",
      "Epoch 6/50\n",
      "\u001b[1m13214/13214\u001b[0m \u001b[32m━━━━━━━━━━━━━━━━━━━━\u001b[0m\u001b[37m\u001b[0m \u001b[1m266s\u001b[0m 20ms/step - accuracy: 0.7352 - loss: 0.8145 - val_accuracy: 0.8565 - val_loss: 0.4716 - learning_rate: 1.0000e-04\n",
      "Epoch 7/50\n",
      "\u001b[1m13214/13214\u001b[0m \u001b[32m━━━━━━━━━━━━━━━━━━━━\u001b[0m\u001b[37m\u001b[0m \u001b[1m263s\u001b[0m 20ms/step - accuracy: 0.7294 - loss: 0.8237 - val_accuracy: 0.8562 - val_loss: 0.5113 - learning_rate: 1.0000e-04\n",
      "Epoch 8/50\n",
      "\u001b[1m13214/13214\u001b[0m \u001b[32m━━━━━━━━━━━━━━━━━━━━\u001b[0m\u001b[37m\u001b[0m \u001b[1m262s\u001b[0m 20ms/step - accuracy: 0.7295 - loss: 0.8146 - val_accuracy: 0.8551 - val_loss: 0.5038 - learning_rate: 1.0000e-04\n",
      "Epoch 9/50\n",
      "\u001b[1m13214/13214\u001b[0m \u001b[32m━━━━━━━━━━━━━━━━━━━━\u001b[0m\u001b[37m\u001b[0m \u001b[1m268s\u001b[0m 20ms/step - accuracy: 0.7364 - loss: 0.8092 - val_accuracy: 0.8339 - val_loss: 0.5286 - learning_rate: 1.0000e-04\n",
      "Epoch 10/50\n",
      "\u001b[1m13214/13214\u001b[0m \u001b[32m━━━━━━━━━━━━━━━━━━━━\u001b[0m\u001b[37m\u001b[0m \u001b[1m270s\u001b[0m 20ms/step - accuracy: 0.7273 - loss: 0.8190 - val_accuracy: 0.8705 - val_loss: 0.5334 - learning_rate: 1.0000e-04\n",
      "Epoch 11/50\n",
      "\u001b[1m13214/13214\u001b[0m \u001b[32m━━━━━━━━━━━━━━━━━━━━\u001b[0m\u001b[37m\u001b[0m \u001b[1m270s\u001b[0m 20ms/step - accuracy: 0.7272 - loss: 0.8126 - val_accuracy: 0.8892 - val_loss: 0.4676 - learning_rate: 1.0000e-04\n",
      "Epoch 12/50\n",
      "\u001b[1m13214/13214\u001b[0m \u001b[32m━━━━━━━━━━━━━━━━━━━━\u001b[0m\u001b[37m\u001b[0m \u001b[1m272s\u001b[0m 21ms/step - accuracy: 0.7325 - loss: 0.8023 - val_accuracy: 0.9004 - val_loss: 0.4424 - learning_rate: 1.0000e-04\n",
      "Epoch 13/50\n",
      "\u001b[1m13214/13214\u001b[0m \u001b[32m━━━━━━━━━━━━━━━━━━━━\u001b[0m\u001b[37m\u001b[0m \u001b[1m274s\u001b[0m 21ms/step - accuracy: 0.7377 - loss: 0.7997 - val_accuracy: 0.8706 - val_loss: 0.4866 - learning_rate: 1.0000e-04\n",
      "Epoch 14/50\n",
      "\u001b[1m13214/13214\u001b[0m \u001b[32m━━━━━━━━━━━━━━━━━━━━\u001b[0m\u001b[37m\u001b[0m \u001b[1m327s\u001b[0m 21ms/step - accuracy: 0.7282 - loss: 0.7988 - val_accuracy: 0.8625 - val_loss: 0.5441 - learning_rate: 1.0000e-04\n",
      "Epoch 15/50\n",
      "\u001b[1m13214/13214\u001b[0m \u001b[32m━━━━━━━━━━━━━━━━━━━━\u001b[0m\u001b[37m\u001b[0m \u001b[1m278s\u001b[0m 21ms/step - accuracy: 0.7127 - loss: 0.8098 - val_accuracy: 0.8548 - val_loss: 0.5005 - learning_rate: 1.0000e-04\n",
      "Epoch 16/50\n",
      "\u001b[1m13214/13214\u001b[0m \u001b[32m━━━━━━━━━━━━━━━━━━━━\u001b[0m\u001b[37m\u001b[0m \u001b[1m280s\u001b[0m 21ms/step - accuracy: 0.7333 - loss: 0.7908 - val_accuracy: 0.8649 - val_loss: 0.5018 - learning_rate: 1.0000e-04\n",
      "Epoch 17/50\n",
      "\u001b[1m13214/13214\u001b[0m \u001b[32m━━━━━━━━━━━━━━━━━━━━\u001b[0m\u001b[37m\u001b[0m \u001b[1m0s\u001b[0m 20ms/step - accuracy: 0.7378 - loss: 0.7889\n",
      "Epoch 17: ReduceLROnPlateau reducing learning rate to 2.0000000949949027e-05.\n",
      "\u001b[1m13214/13214\u001b[0m \u001b[32m━━━━━━━━━━━━━━━━━━━━\u001b[0m\u001b[37m\u001b[0m \u001b[1m283s\u001b[0m 21ms/step - accuracy: 0.7378 - loss: 0.7889 - val_accuracy: 0.8350 - val_loss: 0.5306 - learning_rate: 1.0000e-04\n",
      "Epoch 18/50\n",
      "\u001b[1m13214/13214\u001b[0m \u001b[32m━━━━━━━━━━━━━━━━━━━━\u001b[0m\u001b[37m\u001b[0m \u001b[1m284s\u001b[0m 21ms/step - accuracy: 0.7455 - loss: 0.7629 - val_accuracy: 0.8536 - val_loss: 0.4887 - learning_rate: 2.0000e-05\n",
      "Epoch 19/50\n",
      "\u001b[1m13214/13214\u001b[0m \u001b[32m━━━━━━━━━━━━━━━━━━━━\u001b[0m\u001b[37m\u001b[0m \u001b[1m285s\u001b[0m 22ms/step - accuracy: 0.7460 - loss: 0.7513 - val_accuracy: 0.8594 - val_loss: 0.4873 - learning_rate: 2.0000e-05\n",
      "Epoch 20/50\n",
      "\u001b[1m13214/13214\u001b[0m \u001b[32m━━━━━━━━━━━━━━━━━━━━\u001b[0m\u001b[37m\u001b[0m \u001b[1m286s\u001b[0m 22ms/step - accuracy: 0.7419 - loss: 0.7539 - val_accuracy: 0.8538 - val_loss: 0.5061 - learning_rate: 2.0000e-05\n",
      "Epoch 21/50\n",
      "\u001b[1m13214/13214\u001b[0m \u001b[32m━━━━━━━━━━━━━━━━━━━━\u001b[0m\u001b[37m\u001b[0m \u001b[1m291s\u001b[0m 22ms/step - accuracy: 0.7443 - loss: 0.7496 - val_accuracy: 0.8603 - val_loss: 0.4894 - learning_rate: 2.0000e-05\n",
      "Epoch 22/50\n",
      "\u001b[1m13213/13214\u001b[0m \u001b[32m━━━━━━━━━━━━━━━━━━━\u001b[0m\u001b[37m━\u001b[0m \u001b[1m0s\u001b[0m 21ms/step - accuracy: 0.7465 - loss: 0.7454\n",
      "Epoch 22: ReduceLROnPlateau reducing learning rate to 4.000000262749381e-06.\n",
      "\u001b[1m13214/13214\u001b[0m \u001b[32m━━━━━━━━━━━━━━━━━━━━\u001b[0m\u001b[37m\u001b[0m \u001b[1m292s\u001b[0m 22ms/step - accuracy: 0.7465 - loss: 0.7454 - val_accuracy: 0.8549 - val_loss: 0.4868 - learning_rate: 2.0000e-05\n",
      "Epoch 22: early stopping\n",
      "Restoring model weights from the end of the best epoch: 12.\n"
     ]
    }
   ],
   "source": [
    "batch_size = 64\n",
    "epochs = 50\n",
    "\n",
    "early_stopping = EarlyStopping(\n",
    "    monitor='val_loss',\n",
    "    patience=10,\n",
    "    restore_best_weights=True,\n",
    "    verbose=1\n",
    ")\n",
    "\n",
    "reduce_lr = ReduceLROnPlateau(\n",
    "    monitor='val_loss',\n",
    "    factor=0.2,\n",
    "    patience=5,\n",
    "    min_lr=1e-6,\n",
    "    verbose=1\n",
    ")\n",
    "\n",
    "history = model.fit(\n",
    "    x_train_rnn, y_train_rnn,\n",
    "    validation_data=(x_val_rnn, y_val_rnn),\n",
    "    epochs=epochs,\n",
    "    batch_size=batch_size,\n",
    "    class_weight=class_weights_dict,\n",
    "    callbacks=[early_stopping, reduce_lr],\n",
    "    verbose=1\n",
    ")"
   ]
  },
  {
   "cell_type": "code",
   "execution_count": 50,
   "id": "b7640eb2-b541-4f14-a5f8-edd28cbe071d",
   "metadata": {},
   "outputs": [
    {
     "name": "stdout",
     "output_type": "stream",
     "text": [
      "\n",
      "Test Loss: 0.4452\n",
      "Test Accuracy: 0.8982\n",
      "\u001b[1m3304/3304\u001b[0m \u001b[32m━━━━━━━━━━━━━━━━━━━━\u001b[0m\u001b[37m\u001b[0m \u001b[1m15s\u001b[0m 5ms/step\n",
      "\n",
      "Classification Report:\n",
      "              precision    recall  f1-score   support\n",
      "\n",
      "      Benign       0.95      0.95      0.95     90157\n",
      "     Malware       0.78      0.66      0.72      8170\n",
      "    Phishing       0.27      0.27      0.27      4335\n",
      "        Spam       0.62      0.93      0.74      3037\n",
      "\n",
      "    accuracy                           0.90    105699\n",
      "   macro avg       0.66      0.70      0.67    105699\n",
      "weighted avg       0.90      0.90      0.90    105699\n",
      "\n"
     ]
    },
    {
     "data": {
      "image/png": "[encoded data removed]",
      "text/plain": [
       "<Figure size 800x600 with 2 Axes>"
      ]
     },
     "metadata": {},
     "output_type": "display_data"
    }
   ],
   "source": [
    "test_loss, test_acc = model.evaluate(x_test_rnn, y_test_rnn, verbose=0)\n",
    "print(f\"\\nTest Loss: {test_loss:.4f}\")\n",
    "print(f\"Test Accuracy: {test_acc:.4f}\")\n",
    "\n",
    "y_pred_probs = model.predict(x_test_rnn)\n",
    "y_pred = np.argmax(y_pred_probs, axis=1)\n",
    "\n",
    "target_names = le_label.classes_  # e.g., ['Benign','Phishing','Spam','Malware']\n",
    "print(\"\\nClassification Report:\")\n",
    "print(classification_report(y_test_rnn, y_pred, target_names=target_names, zero_division=0))\n",
    "\n",
    "conf_mat = confusion_matrix(y_test_rnn, y_pred)\n",
    "plt.figure(figsize=(8,6))\n",
    "sns.heatmap(conf_mat, annot=True, fmt='d', cmap='Blues',\n",
    "            xticklabels=target_names, yticklabels=target_names)\n",
    "plt.xlabel('Predicted')\n",
    "plt.ylabel('Actual')\n",
    "plt.title('Confusion Matrix')\n",
    "plt.show()"
   ]
  },
  {
   "cell_type": "code",
   "execution_count": 48,
   "id": "88794a80-82ff-4f36-b432-898509ac9e2e",
   "metadata": {},
   "outputs": [
    {
     "name": "stderr",
     "output_type": "stream",
     "text": [
      "WARNING:absl:You are saving your model as an HDF5 file via `model.save()` or `keras.saving.save_model(model)`. This file format is considered legacy. We recommend using instead the native Keras format, e.g. `model.save('my_model.keras')` or `keras.saving.save_model(model, 'my_model.keras')`. \n"
     ]
    },
    {
     "name": "stdout",
     "output_type": "stream",
     "text": [
      "Model saved to 'dnshield_rnn_timestamp.h5'.\n",
      "Saved label encoders and scaler.\n"
     ]
    }
   ],
   "source": [
    "model.save('dnshield_rnn_timestamp.h5')\n",
    "print(\"Model saved to 'dnshield_rnn_timestamp.h5'.\")\n",
    "\n",
    "# Save label encoders, scaler\n",
    "joblib.dump(le_label, 'label_encoder.pkl')\n",
    "joblib.dump(le_tld, 'le_dns_top_level_domain.pkl')\n",
    "joblib.dump(le_sld, 'le_dns_second_level_domain.pkl')\n",
    "joblib.dump(scaler,  'scaler.pkl')\n",
    "print(\"Saved label encoders and scaler.\")"
   ]
  },
  {
   "cell_type": "code",
   "execution_count": null,
   "id": "00bab890-d2d9-4d14-9d00-5122215be8b3",
   "metadata": {},
   "outputs": [],
   "source": []
  }
 ],
 "metadata": {
  "kernelspec": {
   "display_name": "Python 3 (ipykernel)",
   "language": "python",
   "name": "python3"
  },
  "language_info": {
   "codemirror_mode": {
    "name": "ipython",
    "version": 3
   },
   "file_extension": ".py",
   "mimetype": "text/x-python",
   "name": "python",
   "nbconvert_exporter": "python",
   "pygments_lexer": "ipython3",
   "version": "3.12.8"
  }
 },
 "nbformat": 4,
 "nbformat_minor": 5
}
