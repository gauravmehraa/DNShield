{
 "cells": [
  {
   "cell_type": "code",
   "execution_count": 19,
   "id": "c7a5c7f8-4e9d-420a-a9b9-54b1cde10ea2",
   "metadata": {},
   "outputs": [],
   "source": [
    "from tensorflow.keras.models import load_model\n",
    "from tensorflow.keras.utils import plot_model\n",
    "import os\n",
    "os.environ[\"PATH\"] += os.pathsep + r\"C:\\Program Files\\Graphviz\\bin\"\n",
    "\n",
    "# model = load_model('models/model_batchsize32_sequence5.h5')\n",
    "# plot_model(\n",
    "#     model,\n",
    "#     to_file='model_architecture.png',  # Filepath to save the diagram\n",
    "#     show_shapes=True,                  # Display layer output shapes\n",
    "#     show_layer_names=True,             # Display layer names\n",
    "#     expand_nested=True                 # If you want to expand layers like Bidirectional\n",
    "# )"
   ]
  },
  {
   "cell_type": "code",
   "execution_count": null,
   "id": "d4dc58df-da60-481d-8254-d2b0bf2cc957",
   "metadata": {},
   "outputs": [],
   "source": []
  },
  {
   "cell_type": "code",
   "execution_count": null,
   "id": "cc84f364-abde-4023-a36c-5410f39aa1f5",
   "metadata": {},
   "outputs": [],
   "source": []
  }
 ],
 "metadata": {
  "kernelspec": {
   "display_name": "Python 3 (ipykernel)",
   "language": "python",
   "name": "python3"
  },
  "language_info": {
   "codemirror_mode": {
    "name": "ipython",
    "version": 3
   },
   "file_extension": ".py",
   "mimetype": "text/x-python",
   "name": "python",
   "nbconvert_exporter": "python",
   "pygments_lexer": "ipython3",
   "version": "3.12.8"
  }
 },
 "nbformat": 4,
 "nbformat_minor": 5
}
