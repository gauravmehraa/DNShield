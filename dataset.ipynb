{
 "cells": [
  {
   "cell_type": "code",
   "execution_count": 151,
   "id": "83982970-81a6-4494-b72a-b85ed81e5495",
   "metadata": {},
   "outputs": [
    {
     "name": "stdout",
     "output_type": "stream",
     "text": [
      "(1001, 122)\n",
      "(1001, 122)\n",
      "(1001, 122)\n",
      "(1001, 122)\n"
     ]
    }
   ],
   "source": [
    "import pandas as pd\n",
    "\n",
    "columns_dtype = {\n",
    "    'flow_id': 'string',\n",
    "    'timestamp': 'string',  # parse as datetime later\n",
    "    'src_ip': 'string',\n",
    "    'src_port': 'Int64',\n",
    "    'dst_ip': 'string',\n",
    "    'dst_port': 'Int64',\n",
    "    'protocol': 'string',\n",
    "    'duration': 'float',\n",
    "    'packets_numbers': 'Int64',\n",
    "    'receiving_packets_numbers': 'Int64',\n",
    "    'sending_packets_numbers': 'Int64',\n",
    "    'handshake_duration': 'string',\n",
    "    'delta_start': 'string',\n",
    "    'total_bytes': 'Int64',\n",
    "    'receiving_bytes': 'Int64',\n",
    "    'sending_bytes': 'Int64',\n",
    "    'packets_rate': 'float',\n",
    "    'receiving_packets_rate': 'float',\n",
    "    'sending_packets_rate': 'float',\n",
    "    'packets_len_rate': 'float',\n",
    "    'receiving_packets_len_rate': 'float',\n",
    "    'sending_packets_len_rate': 'float',\n",
    "    'min_packets_len': 'Int64',\n",
    "    'max_packets_len': 'Int64',\n",
    "    'mean_packets_len': 'float',\n",
    "    'median_packets_len': 'float',\n",
    "    'mode_packets_len': 'float',\n",
    "    'standard_deviation_packets_len': 'float',\n",
    "    'variance_packets_len': 'float',\n",
    "    'coefficient_of_variation_packets_len': 'float',\n",
    "    'skewness_packets_len': 'float',\n",
    "    'min_receiving_packets_len': 'Int64',\n",
    "    'max_receiving_packets_len': 'Int64',\n",
    "    'mean_receiving_packets_len': 'float',\n",
    "    'median_receiving_packets_len': 'float',\n",
    "    'mode_receiving_packets_len': 'float',\n",
    "    'standard_deviation_receiving_packets_len': 'float',\n",
    "    'variance_receiving_packets_len': 'float',\n",
    "    'coefficient_of_variation_receiving_packets_len': 'float',\n",
    "    'skewness_receiving_packets_len': 'float',\n",
    "    'min_sending_packets_len': 'Int64',\n",
    "    'max_sending_packets_len': 'Int64',\n",
    "    'mean_sending_packets_len': 'float',\n",
    "    'median_sending_packets_len': 'float',\n",
    "    'mode_sending_packets_len': 'float',\n",
    "    'standard_deviation_sending_packets_len': 'float',\n",
    "    'variance_sending_packets_len': 'float',\n",
    "    'coefficient_of_variation_sending_packets_len': 'float',\n",
    "    'skewness_sending_packets_len': 'float',\n",
    "    'min_receiving_packets_delta_len': 'Int64',\n",
    "    'max_receiving_packets_delta_len': 'Int64',\n",
    "    'mean_receiving_packets_delta_len': 'float',\n",
    "    'median_receiving_packets_delta_len': 'float',\n",
    "    'standard_deviation_receiving_packets_delta_len': 'float',\n",
    "    'variance_receiving_packets_delta_len': 'float',\n",
    "    'mode_receiving_packets_delta_len': 'float',\n",
    "    'coefficient_of_variation_receiving_packets_delta_len': 'float',\n",
    "    'skewness_receiving_packets_delta_len': 'float',\n",
    "    'min_sending_packets_delta_len': 'Int64',\n",
    "    'max_sending_packets_delta_len': 'Int64',\n",
    "    'mean_sending_packets_delta_len': 'float',\n",
    "    'median_sending_packets_delta_len': 'float',\n",
    "    'standard_deviation_sending_packets_delta_len': 'float',\n",
    "    'variance_sending_packets_delta_len': 'float',\n",
    "    'mode_sending_packets_delta_len': 'float',\n",
    "    'coefficient_of_variation_sending_packets_delta_len': 'float',\n",
    "    'skewness_sending_packets_delta_len': 'float',\n",
    "    'max_receiving_packets_delta_time': 'float',\n",
    "    'mean_receiving_packets_delta_time': 'float',\n",
    "    'median_receiving_packets_delta_time': 'float',\n",
    "    'standard_deviation_receiving_packets_delta_time': 'float',\n",
    "    'variance_receiving_packets_delta_time': 'float',\n",
    "    'mode_receiving_packets_delta_time': 'float',\n",
    "    'coefficient_of_variation_receiving_packets_delta_time': 'float',\n",
    "    'skewness_sreceiving_packets_delta_time': 'float',\n",
    "    'min_sending_packets_delta_time': 'float',\n",
    "    'max_sending_packets_delta_time': 'float',\n",
    "    'mean_sending_packets_delta_time': 'float',\n",
    "    'median_sending_packets_delta_time': 'float',\n",
    "    'standard_deviation_sending_packets_delta_time': 'float',\n",
    "    'variance_sending_packets_delta_time': 'float',\n",
    "    'mode_sending_packets_delta_time': 'float',\n",
    "    'coefficient_of_variation_sending_packets_delta_time': 'float',\n",
    "    'skewness_sending_packets_delta_time': 'float',\n",
    "    'dns_domain_name': 'string',\n",
    "    'dns_top_level_domain': 'string',\n",
    "    'dns_second_level_domain': 'string',\n",
    "    'dns_domain_name_length': 'Int64',\n",
    "    'dns_subdomain_name_length': 'Int64',\n",
    "    'uni_gram_domain_name': 'string',\n",
    "    'bi_gram_domain_name': 'string',\n",
    "    'tri_gram_domain_name': 'string',\n",
    "    'numerical_percentage': 'float',\n",
    "    'character_distribution': 'string',\n",
    "    'character_entropy': 'float',\n",
    "    'max_continuous_numeric_len': 'Int64',\n",
    "    'max_continuous_alphabet_len': 'Int64',\n",
    "    'max_continuous_consonants_len': 'Int64',\n",
    "    'max_continuous_same_alphabet_len': 'Int64',\n",
    "    'vowels_consonant_ratio': 'float',\n",
    "    'conv_freq_vowels_consonants': 'float',\n",
    "    'distinct_ttl_values': 'Int64',\n",
    "    'ttl_values_min': 'Int64',\n",
    "    'ttl_values_max': 'Int64',\n",
    "    'ttl_values_mean': 'float',\n",
    "    'ttl_values_mode': 'float',\n",
    "    'ttl_values_variance': 'float',\n",
    "    'ttl_values_standard_deviation': 'float',\n",
    "    'ttl_values_median': 'float',\n",
    "    'ttl_values_skewness': 'float',\n",
    "    'ttl_values_coefficient_of_variation': 'float',\n",
    "    'distinct_A_records': 'Int64',\n",
    "    'distinct_NS_records': 'Int64',\n",
    "    'average_authority_resource_records': 'float',\n",
    "    'average_additional_resource_records': 'float',\n",
    "    'average_answer_resource_records': 'float',\n",
    "    'query_resource_record_type': 'string',\n",
    "    'ans_resource_record_type': 'string',\n",
    "    'query_resource_record_class': 'string',\n",
    "    'ans_resource_record_class': 'string',\n",
    "    'label': 'string'\n",
    "}\n",
    "\n",
    "benign_df = pd.read_csv('../benign.csv', dtype=columns_dtype, low_memory=False)\n",
    "print(benign_df.shape)\n",
    "phishing_df = pd.read_csv('../phishing.csv', dtype=columns_dtype, low_memory=False)\n",
    "print(phishing_df.shape)\n",
    "spam_df = pd.read_csv('../spam.csv', dtype=columns_dtype, low_memory=False)\n",
    "print(spam_df.shape)\n",
    "malware_df = pd.read_csv('../malware.csv', dtype=columns_dtype, low_memory=False)\n",
    "print(malware_df.shape)\n",
    "\n",
    "\n",
    "data = pd.concat([benign_df, phishing_df, spam_df, malware_df], ignore_index=True)"
   ]
  },
  {
   "cell_type": "code",
   "execution_count": 152,
   "id": "92d9f580-f4c5-4c84-818f-e864335d0534",
   "metadata": {},
   "outputs": [
    {
     "name": "stdout",
     "output_type": "stream",
     "text": [
      "Percentage of Missing Values in Each Column:\n",
      "coefficient_of_variation_receiving_packets_delta_len     0.299700\n",
      "coefficient_of_variation_sending_packets_delta_len       0.299700\n",
      "dns_subdomain_name_length                               95.004995\n",
      "ttl_values_coefficient_of_variation                      0.174825\n",
      "dtype: float64\n"
     ]
    }
   ],
   "source": [
    "missing_values = data.isnull().sum()\n",
    "missing_percentage = (missing_values / len(data)) * 100\n",
    "print(\"Percentage of Missing Values in Each Column:\")\n",
    "print(missing_percentage[missing_percentage > 0])"
   ]
  },
  {
   "cell_type": "code",
   "execution_count": 153,
   "id": "25c7c1c0-b878-4bfd-b4c2-e4098c64c2eb",
   "metadata": {},
   "outputs": [
    {
     "name": "stdout",
     "output_type": "stream",
     "text": [
      "Dropped Columns: ['dns_subdomain_name_length']\n",
      "Shape after dropping columns: (4004, 121)\n"
     ]
    }
   ],
   "source": [
    "threshold = 50\n",
    "columns_to_drop = missing_percentage[missing_percentage > threshold].index\n",
    "data_cleaned = data.drop(columns=columns_to_drop)\n",
    "print(\"Dropped Columns:\", list(columns_to_drop))\n",
    "print(\"Shape after dropping columns:\", data_cleaned.shape)"
   ]
  },
  {
   "cell_type": "code",
   "execution_count": 154,
   "id": "ae3af5c9-0ff6-41b7-86e0-883a858ceaf3",
   "metadata": {},
   "outputs": [],
   "source": [
    "from sklearn.preprocessing import LabelEncoder\n",
    "\n",
    "le = LabelEncoder()\n",
    "data['label_encoded'] = le.fit_transform(data['label'])"
   ]
  },
  {
   "cell_type": "code",
   "execution_count": 155,
   "id": "535bdee7-54ed-4977-94de-c4b3d69f7749",
   "metadata": {},
   "outputs": [
    {
     "name": "stdout",
     "output_type": "stream",
     "text": [
      "Selected features shape: (4004, 28)\n"
     ]
    }
   ],
   "source": [
    "essential_features = [\n",
    "    'dns_top_level_domain',\n",
    "    'dns_second_level_domain',\n",
    "    'dns_domain_name_length',\n",
    "    'dns_subdomain_name_length',\n",
    "    'uni_gram_domain_name',\n",
    "    'bi_gram_domain_name',\n",
    "    'tri_gram_domain_name',\n",
    "    'numerical_percentage',\n",
    "    'character_entropy',\n",
    "    'max_continuous_numeric_len',\n",
    "    'max_continuous_alphabet_len',\n",
    "    'vowels_consonant_ratio',\n",
    "    'conv_freq_vowels_consonants',\n",
    "    'query_resource_record_type',\n",
    "    'ans_resource_record_type',\n",
    "    'query_resource_record_class',\n",
    "    'ans_resource_record_class',\n",
    "    'packets_numbers',\n",
    "    'receiving_packets_numbers',\n",
    "    'sending_packets_numbers',\n",
    "    'receiving_bytes',\n",
    "    'sending_bytes',\n",
    "    'distinct_ttl_values',\n",
    "    'ttl_values_min',\n",
    "    'ttl_values_max',\n",
    "    'ttl_values_mean',\n",
    "    'character_distribution',\n",
    "    'label_encoded'\n",
    "]\n",
    "\n",
    "data_selected = data[essential_features].copy()\n",
    "print(\"Selected features shape:\", data_selected.shape)"
   ]
  },
  {
   "cell_type": "code",
   "execution_count": 156,
   "id": "fa793faf-4b2b-4a27-aef9-3414c332ea6d",
   "metadata": {},
   "outputs": [],
   "source": [
    "le_tld = LabelEncoder()\n",
    "le_sld = LabelEncoder()\n",
    "\n",
    "data_selected['dns_top_level_domain_encoded'] = le_tld.fit_transform(data_selected['dns_top_level_domain'])\n",
    "data_selected['dns_second_level_domain_encoded'] = le_sld.fit_transform(data_selected['dns_second_level_domain'])\n",
    "data_selected = data_selected.drop(['dns_top_level_domain', 'dns_second_level_domain'], axis=1)"
   ]
  },
  {
   "cell_type": "code",
   "execution_count": 157,
   "id": "fcf7258b-7125-4373-b1c5-b48d62c2d4a4",
   "metadata": {},
   "outputs": [
    {
     "name": "stdout",
     "output_type": "stream",
     "text": [
      "Index(['dns_domain_name_length', 'dns_subdomain_name_length',\n",
      "       'uni_gram_domain_name', 'bi_gram_domain_name', 'tri_gram_domain_name',\n",
      "       'numerical_percentage', 'character_entropy',\n",
      "       'max_continuous_numeric_len', 'max_continuous_alphabet_len',\n",
      "       'vowels_consonant_ratio', 'conv_freq_vowels_consonants',\n",
      "       'query_resource_record_type', 'ans_resource_record_type',\n",
      "       'query_resource_record_class', 'ans_resource_record_class',\n",
      "       'packets_numbers', 'receiving_packets_numbers',\n",
      "       'sending_packets_numbers', 'receiving_bytes', 'sending_bytes',\n",
      "       'distinct_ttl_values', 'ttl_values_min', 'ttl_values_max',\n",
      "       'ttl_values_mean', 'character_distribution', 'label_encoded',\n",
      "       'dns_top_level_domain_encoded', 'dns_second_level_domain_encoded'],\n",
      "      dtype='object')\n"
     ]
    }
   ],
   "source": [
    "print(data_selected.columns)"
   ]
  },
  {
   "cell_type": "code",
   "execution_count": 158,
   "id": "2d0d079d-5b16-4fe4-9681-eab865648908",
   "metadata": {},
   "outputs": [],
   "source": [
    "import ast\n",
    "\n",
    "def parse_list_safe(list_entry):\n",
    "    if isinstance(list_entry, list): return list_entry\n",
    "    elif isinstance(list_entry, str):\n",
    "        try: return ast.literal_eval(list_entry)\n",
    "        except (ValueError, SyntaxError): return []\n",
    "    else: return []\n",
    "\n",
    "ngram_columns = ['uni_gram_domain_name', 'bi_gram_domain_name', 'tri_gram_domain_name']\n",
    "for col in ngram_columns:\n",
    "    data_selected[col] = data_selected[col].apply(parse_list_safe)"
   ]
  },
  {
   "cell_type": "code",
   "execution_count": 159,
   "id": "d3854e2b-72a2-490c-906f-b6f095deeb88",
   "metadata": {},
   "outputs": [
    {
     "name": "stdout",
     "output_type": "stream",
     "text": [
      "Created 'uni_gram_count' from 'uni_gram_domain_name'\n",
      "Created 'bi_gram_count' from 'bi_gram_domain_name'\n",
      "Created 'tri_gram_count' from 'tri_gram_domain_name'\n"
     ]
    }
   ],
   "source": [
    "ngram_columns = ['uni_gram_domain_name', 'bi_gram_domain_name', 'tri_gram_domain_name']\n",
    "count_columns = ['uni_gram_count', 'bi_gram_count', 'tri_gram_count']\n",
    "\n",
    "for ngram_col, count_col in zip(ngram_columns, count_columns):\n",
    "    data_selected[count_col] = data_selected[ngram_col].apply(len)\n",
    "    print(f\"Created '{count_col}' from '{ngram_col}'\")\n",
    "data_selected = data_selected.drop(ngram_columns, axis=1)"
   ]
  },
  {
   "cell_type": "code",
   "execution_count": 160,
   "id": "940f715a-6087-4fd5-b07f-0369a43d40bb",
   "metadata": {},
   "outputs": [],
   "source": [
    "resource_record_columns = [\n",
    "    'query_resource_record_type',\n",
    "    'ans_resource_record_type',\n",
    "    'query_resource_record_class',\n",
    "    'ans_resource_record_class'\n",
    "]\n",
    "\n",
    "for col in resource_record_columns:\n",
    "    data_selected[col] = data_selected[col].apply(parse_list_safe)\n",
    "    count_col = f\"{col}_count\"\n",
    "    data_selected[count_col] = data_selected[col].apply(lambda x: len(set(x)) if isinstance(x, list) else 0)\n",
    "data_selected = data_selected.drop(resource_record_columns, axis=1)"
   ]
  },
  {
   "cell_type": "code",
   "execution_count": 186,
   "id": "d4d76098-6667-432b-89f9-937398756b21",
   "metadata": {},
   "outputs": [],
   "source": [
    "vowels = {'a', 'e', 'i', 'o', 'u'}\n",
    "consonants = set('bcdfghjklmnpqrstvwxyz')\n",
    "def extract_vowels_consonants(dist):\n",
    "    vowel_count = 0\n",
    "    consonant_count = 0\n",
    "    if isinstance(dist, str):\n",
    "        try: dist = ast.literal_eval(dist)\n",
    "        except (ValueError, SyntaxError): dist = {}\n",
    "    if isinstance(dist, dict):\n",
    "        for char, count in dist.items():\n",
    "            if char in vowels: vowel_count += count\n",
    "            elif char in consonants: consonant_count += count\n",
    "    return pd.Series({'vowel_count': vowel_count, 'consonant_count': consonant_count})\n",
    "\n",
    "char_dist_features = data_selected['character_distribution'].apply(extract_vowels_consonants)\n",
    "\n",
    "data_selected = data_selected.drop('vowel_count', axis=1)\n",
    "data_selected = data_selected.drop('consonant_count', axis=1)\n",
    "data_selected = pd.concat([data_selected, char_dist_features], axis=1)\n",
    "data_selected = data_selected.drop('character_distribution', axis=1)"
   ]
  },
  {
   "cell_type": "code",
   "execution_count": 192,
   "id": "1a95d460-31a4-4e8e-9678-c736b848b535",
   "metadata": {},
   "outputs": [
    {
     "name": "stdout",
     "output_type": "stream",
     "text": [
      "Shape of x: (4004, 28)\n",
      "Shape of y: (4004,)\n"
     ]
    }
   ],
   "source": [
    "x = data_selected.drop(['label_encoded'], axis=1)\n",
    "y = data_selected['label_encoded']\n",
    "\n",
    "print(\"Shape of x:\", x.shape)\n",
    "print(\"Shape of y:\", y.shape)"
   ]
  },
  {
   "cell_type": "code",
   "execution_count": 199,
   "id": "fc0394ec-1299-4d28-9f45-c2e46b3fa68f",
   "metadata": {},
   "outputs": [],
   "source": [
    "from sklearn.preprocessing import StandardScaler\n",
    "numerical_features = x.columns\n",
    "\n",
    "scaler = StandardScaler()\n",
    "x_scaled = scaler.fit_transform(x)\n",
    "x_scaled = pd.DataFrame(x_scaled, columns=numerical_features)"
   ]
  },
  {
   "cell_type": "code",
   "execution_count": null,
   "id": "93986949-22fe-47b5-9398-f145e98f2211",
   "metadata": {},
   "outputs": [],
   "source": []
  }
 ],
 "metadata": {
  "kernelspec": {
   "display_name": "Python 3 (ipykernel)",
   "language": "python",
   "name": "python3"
  },
  "language_info": {
   "codemirror_mode": {
    "name": "ipython",
    "version": 3
   },
   "file_extension": ".py",
   "mimetype": "text/x-python",
   "name": "python",
   "nbconvert_exporter": "python",
   "pygments_lexer": "ipython3",
   "version": "3.10.6"
  }
 },
 "nbformat": 4,
 "nbformat_minor": 5
}
